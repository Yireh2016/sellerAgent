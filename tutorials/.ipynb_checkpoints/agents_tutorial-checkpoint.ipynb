{
 "cells": [
  {
   "cell_type": "code",
   "execution_count": 2,
   "id": "23e218e0-f775-4a45-998f-fc7a79bbbf49",
   "metadata": {},
   "outputs": [],
   "source": [
    "import getpass\n",
    "import os\n",
    "from dotenv import load_dotenv\n",
    "load_dotenv()\n",
    "\n",
    "os.environ[\"LANGSMITH_TRACING\"] = \"true\""
   ]
  },
  {
   "cell_type": "code",
   "execution_count": 3,
   "id": "97281409-0f8e-4e7c-96b9-f24c6452003a",
   "metadata": {
    "scrolled": true
   },
   "outputs": [
    {
     "name": "stdout",
     "output_type": "stream",
     "text": [
      "[{'url': 'https://www.weatherapi.com/', 'content': \"{'location': {'name': 'Caracas', 'region': 'Distrito Federal', 'country': 'Venezuela', 'lat': 10.5, 'lon': -66.9167, 'tz_id': 'America/Caracas', 'localtime_epoch': 1740713641, 'localtime': '2025-02-27 23:34'}, 'current': {'last_updated_epoch': 1740713400, 'last_updated': '2025-02-27 23:30', 'temp_c': 19.2, 'temp_f': 66.5, 'is_day': 0, 'condition': {'text': 'Clear', 'icon': '//cdn.weatherapi.com/weather/64x64/night/113.png', 'code': 1000}, 'wind_mph': 2.2, 'wind_kph': 3.6, 'wind_degree': 313, 'wind_dir': 'NW', 'pressure_mb': 1015.0, 'pressure_in': 29.97, 'precip_mm': 0.0, 'precip_in': 0.0, 'humidity': 80, 'cloud': 0, 'feelslike_c': 19.2, 'feelslike_f': 66.5, 'windchill_c': 19.2, 'windchill_f': 66.5, 'heatindex_c': 19.2, 'heatindex_f': 66.5, 'dewpoint_c': 15.7, 'dewpoint_f': 60.2, 'vis_km': 10.0, 'vis_miles': 6.0, 'uv': 0.0, 'gust_mph': 6.7, 'gust_kph': 10.8}}\"}, {'url': 'https://www.meteoprog.com/weather/Caracas/month/february/', 'content': 'Caracas (Venezuela) weather in February 2025 ☀️ Accurate weather forecast for Caracas in ... 28 Feb. +25°+16°. 1 Mar. +25°+15°. 2 Mar. +26°+15°. * weather'}]\n"
     ]
    }
   ],
   "source": [
    "from langchain_community.tools.tavily_search import TavilySearchResults\n",
    "\n",
    "search = TavilySearchResults(max_results=2)\n",
    "search_results = search.invoke(\"What is the weather in Caracas, Venezuela\")\n",
    "print(search_results)\n",
    "tools = [search]"
   ]
  },
  {
   "cell_type": "code",
   "execution_count": 4,
   "id": "020cefd5-cc26-4872-b024-8bafc381d99b",
   "metadata": {},
   "outputs": [],
   "source": [
    "from langchain.chat_models import init_chat_model\n",
    "\n",
    "model = init_chat_model(\"llama-3.3-70b-versatile\", model_provider=\"groq\")\n"
   ]
  },
  {
   "cell_type": "code",
   "execution_count": 5,
   "id": "ab82a0e7-e6ae-4bde-8cfc-184dfb224d6b",
   "metadata": {},
   "outputs": [
    {
     "name": "stdout",
     "output_type": "stream",
     "text": [
      "Canada is a vast and geographically diverse country, spanning across six time zones and covering a significant portion of North America. As a result, the weather in Canada can vary greatly depending on the region, season, and time of year. Here's a general overview of the typical weather conditions in different parts of Canada:\n",
      "\n",
      "**Seasons:**\n",
      "\n",
      "1. **Winter (December to February):** Cold temperatures, snow, and ice are common in most parts of Canada. The average temperature ranges from -2°C to -15°C (28°F to 5°F) in the south and -20°C to -30°C (-4°F to -22°F) in the north.\n",
      "2. **Spring (March to May):** Temperatures gradually warm up, with average highs ranging from 10°C to 20°C (50°F to 68°F). Spring is a great time to see the country's natural beauty, with blooming flowers and greenery.\n",
      "3. **Summer (June to August):** Warm temperatures, with average highs ranging from 20°C to 30°C (68°F to 86°F). The summer months are perfect for outdoor activities like hiking, camping, and water sports.\n",
      "4. **Autumn (September to November):** Cooler temperatures, with average highs ranging from 10°C to 20°C (50°F to 68°F). The fall foliage is a popular attraction, with the changing colors of the leaves creating a picturesque landscape.\n",
      "\n",
      "**Regional Weather Patterns:**\n",
      "\n",
      "1. **British Columbia:** Mild winters, with average temperatures ranging from 3°C to 10°C (37°F to 50°F). Summers are warm, with average highs around 22°C (72°F).\n",
      "2. **Prairies (Alberta, Saskatchewan, Manitoba):** Cold winters, with average temperatures ranging from -10°C to -20°C (14°F to -4°F). Summers are warm, with average highs around 25°C (77°F).\n",
      "3. **Ontario and Quebec:** Cold winters, with average temperatures ranging from -5°C to -15°C (23°F to 5°F). Summers are warm, with average highs around 25°C (77°F).\n",
      "4. **Maritimes (Nova Scotia, New Brunswick, Prince Edward Island):** Mild winters, with average temperatures ranging from 0°C to 5°C (32°F to 41°F). Summers are cool, with average highs around 20°C (68°F).\n",
      "5. **Northern Canada (Yukon, Northwest Territories, Nunavut):** Extremely cold winters, with average temperatures ranging from -20°C to -30°C (-4°F to -22°F). Summers are cool, with average highs around 15°C (59°F).\n",
      "\n",
      "**Extreme Weather Events:**\n",
      "\n",
      "1. **Blizzards:** Common in the winter months, especially in the prairies and eastern Canada.\n",
      "2. **Tornadoes:** Can occur in the summer months, particularly in the prairies and Ontario.\n",
      "3. **Hurricanes:** Rare, but can affect the Maritime provinces and Quebec.\n",
      "4. **Forest Fires:** Can occur during the summer months, especially in the western provinces.\n",
      "\n",
      "Keep in mind that these are general weather patterns, and local conditions can vary significantly. It's always a good idea to check the forecast before traveling to or within Canada.\n"
     ]
    }
   ],
   "source": [
    "from langchain_core.messages import HumanMessage\n",
    "\n",
    "response = model.invoke([HumanMessage(content=\"How is the weather usually in Canada?\")])\n",
    "print(response.content)"
   ]
  },
  {
   "cell_type": "code",
   "execution_count": 6,
   "id": "233be2b7-7cd2-4684-b44c-a4ffee053361",
   "metadata": {},
   "outputs": [],
   "source": [
    "model_with_tools = model.bind_tools(tools)"
   ]
  },
  {
   "cell_type": "code",
   "execution_count": 7,
   "id": "bd661862-2881-4df1-860a-3fc61b65161b",
   "metadata": {},
   "outputs": [
    {
     "name": "stdout",
     "output_type": "stream",
     "text": [
      "ContentString: \n",
      "ToolCalls: [{'name': 'tavily_search_results_json', 'args': {'query': 'San Francisco weather today'}, 'id': 'call_kvaf', 'type': 'tool_call'}]\n"
     ]
    }
   ],
   "source": [
    "response2 = model_with_tools.invoke([HumanMessage(content=\"What's the weather in SF?\")])\n",
    "\n",
    "print(f\"ContentString: {response2.content}\")\n",
    "print(f\"ToolCalls: {response2.tool_calls}\")"
   ]
  },
  {
   "cell_type": "code",
   "execution_count": null,
   "id": "fc628813-8fb7-423b-a86c-1592f75128e4",
   "metadata": {},
   "outputs": [],
   "source": [
    "from langgraph.checkpoint.memory import MemorySaver\n",
    "\n",
    "memory = MemorySaver()"
   ]
  },
  {
   "cell_type": "code",
   "execution_count": 8,
   "id": "4a1ad29a-020d-4a67-961f-9600d5f63400",
   "metadata": {},
   "outputs": [],
   "source": [
    "from langgraph.prebuilt import create_react_agent\n",
    "\n",
    "agent_executor = create_react_agent(model, tools, checkpointer = memory)\n",
    "config = {\"configurable\" : { \"thread_id\" : \"abc123\"}}"
   ]
  },
  {
   "cell_type": "code",
   "execution_count": 10,
   "id": "5824c041-5526-43e3-9152-4cc4f918cec6",
   "metadata": {},
   "outputs": [
    {
     "name": "stdout",
     "output_type": "stream",
     "text": [
      "================================\u001b[1m Human Message \u001b[0m=================================\n",
      "\n",
      "hola, me puedes decir el precio de la accion de apple de esta semana?\n",
      "==================================\u001b[1m Ai Message \u001b[0m==================================\n",
      "Tool Calls:\n",
      "  tavily_search_results_json (call_q0sn)\n",
      " Call ID: call_q0sn\n",
      "  Args:\n",
      "    query: Apple stock price this week\n",
      "=================================\u001b[1m Tool Message \u001b[0m=================================\n",
      "Name: tavily_search_results_json\n",
      "\n",
      "[{\"url\": \"https://www.cnn.com/markets/stocks/AAPL\", \"content\": \"Apple Inc. ; Price Momentum. AAPL is trading near the top ; Price change. The price of AAPL shares has decreased $7.41 ; Opened at $239.62. The stock opened $0.74\"}, {\"url\": \"https://finance.yahoo.com/quote/AAPL/history/\", \"content\": \"(AAPL) Stock Historical Prices & Data - Yahoo Finance Health Health Health Health news Stock Market Stocks: Most Actives Stocks: Gainers Stocks: Losers Futures Currencies Financial Services Investment Ideas Trending Stocks Fantasy Yahoo Finance Yahoo Finance Health Health Fantasy Stock Market Stocks: Most Actives Stocks: Gainers Stocks: Losers Futures Currencies Financial Services Investment Ideas Trending Stocks Stock Splits Currency in USD Adjusted close price adjusted for splits and dividend and/or capital gain distributions. | Feb 10, 2025 | 0.25 Dividend | Mortgages Credit Cards Sectors Crypto Heatmap Financial News Data Disclaimer Help Feedback Sitemap Licensing What's New About Our Ads Premium Plans Sign in to access your portfolio GDS GDS Holdings Limited 39.58 -5.18 (-11.57%) Ad Terms Feedback More Info\"}]\n",
      "==================================\u001b[1m Ai Message \u001b[0m==================================\n",
      "\n",
      "El precio de la acción de Apple de esta semana no se puede determinar con precisión sin acceso a información en tiempo real. Sin embargo, según los datos históricos disponibles hasta mi última actualización en diciembre de 2023, el precio de las acciones de Apple ha experimentado fluctuaciones. Para obtener el precio actualizado y más preciso, te recomendaría consultar fuentes financieras en línea como Yahoo Finance o CNN Money, donde pueden encontrar información actualizada sobre el mercado de valores y el precio de las acciones de Apple.\n"
     ]
    }
   ],
   "source": [
    "for step in agent_executor.stream(\n",
    "    {\"messages\": [HumanMessage(content=\"hola, me puedes decir el precio de la accion de apple de esta semana?\")]},\n",
    "    stream_mode=\"values\",\n",
    "):\n",
    "    step[\"messages\"][-1].pretty_print()"
   ]
  },
  {
   "cell_type": "code",
   "execution_count": null,
   "id": "7e905a71-0d19-4898-aeb4-ea508d71db47",
   "metadata": {},
   "outputs": [],
   "source": []
  },
  {
   "cell_type": "code",
   "execution_count": null,
   "id": "a3c86dce-fc73-47ec-bd76-6781c8b81576",
   "metadata": {},
   "outputs": [],
   "source": []
  },
  {
   "cell_type": "code",
   "execution_count": null,
   "id": "579e6c79-5a5e-423c-b7e5-9e7d7e283a4b",
   "metadata": {},
   "outputs": [],
   "source": []
  },
  {
   "cell_type": "code",
   "execution_count": null,
   "id": "6d745663-def5-4c2f-bbf2-b7614ac2459d",
   "metadata": {},
   "outputs": [],
   "source": []
  }
 ],
 "metadata": {
  "kernelspec": {
   "display_name": "Python 3 (ipykernel)",
   "language": "python",
   "name": "python3"
  },
  "language_info": {
   "codemirror_mode": {
    "name": "ipython",
    "version": 3
   },
   "file_extension": ".py",
   "mimetype": "text/x-python",
   "name": "python",
   "nbconvert_exporter": "python",
   "pygments_lexer": "ipython3",
   "version": "3.13.2"
  }
 },
 "nbformat": 4,
 "nbformat_minor": 5
}
