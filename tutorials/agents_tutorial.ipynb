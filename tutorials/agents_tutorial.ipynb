{
 "cells": [
  {
   "cell_type": "code",
   "execution_count": 4,
   "id": "23e218e0-f775-4a45-998f-fc7a79bbbf49",
   "metadata": {},
   "outputs": [],
   "source": [
    "import os\n",
    "from dotenv import load_dotenv\n",
    "load_dotenv()\n",
    "\n",
    "os.environ[\"LANGSMITH_TRACING\"] = \"true\""
   ]
  },
  {
   "cell_type": "code",
   "execution_count": 5,
   "id": "97281409-0f8e-4e7c-96b9-f24c6452003a",
   "metadata": {
    "scrolled": true
   },
   "outputs": [
    {
     "name": "stdout",
     "output_type": "stream",
     "text": [
      "[{'title': 'Weather in Caracas, Venezuela', 'url': 'https://www.weatherapi.com/', 'content': \"{'location': {'name': 'Caracas', 'region': 'Distrito Federal', 'country': 'Venezuela', 'lat': 10.5, 'lon': -66.9167, 'tz_id': 'America/Caracas', 'localtime_epoch': 1743639368, 'localtime': '2025-04-02 20:16'}, 'current': {'last_updated_epoch': 1743639300, 'last_updated': '2025-04-02 20:15', 'temp_c': 19.4, 'temp_f': 66.9, 'is_day': 0, 'condition': {'text': 'Mist', 'icon': '//cdn.weatherapi.com/weather/64x64/night/143.png', 'code': 1030}, 'wind_mph': 4.3, 'wind_kph': 6.8, 'wind_degree': 81, 'wind_dir': 'E', 'pressure_mb': 1015.0, 'pressure_in': 29.97, 'precip_mm': 0.03, 'precip_in': 0.0, 'humidity': 95, 'cloud': 71, 'feelslike_c': 19.4, 'feelslike_f': 66.9, 'windchill_c': 19.4, 'windchill_f': 66.9, 'heatindex_c': 19.4, 'heatindex_f': 66.9, 'dewpoint_c': 18.7, 'dewpoint_f': 65.6, 'vis_km': 2.0, 'vis_miles': 1.0, 'uv': 0.0, 'gust_mph': 6.6, 'gust_kph': 10.7}}\", 'score': 0.9081421}, {'title': '10-Day Weather Forecast for Caracas, Capital District, Venezuela', 'url': 'https://weather.com/weather/tenday/l/Caracas+Capital+District+Venezuela?canonicalCityId=d3df9e63d0a266913d942d0a8268f809a79f4f269bb973443927d9d3e5670c70', 'content': 'Cloudy. High 78F. Winds E at 5 to 10 mph.\\n\\nFri 04 | Night\\n\\nMostly cloudy skies. Low 63F. Winds light and variable.\\n\\nSat 05\\n\\nSat 05 | Day\\n\\nCloudy skies. High 78F. Winds light and variable.\\n\\nSat 05 | Night\\n\\nCloudy. Low near 65F. Winds light and variable.\\n\\nSun 06\\n\\nSun 06 | Day\\n\\nA few showers in the morning with scattered thunderstorms arriving in the afternoon. High 77F. Winds light and variable. Chance of rain 40%.\\n\\nSun 06 | Night\\n\\nCloudy. Low near 65F. Winds light and variable.\\n\\nMon 07 [...] recents\\n\\nWeather Forecasts\\n\\nRadar & Maps\\n\\nNews & Media\\n\\nProducts\\n\\nHealth & Wellness\\n\\nAccount\\n\\nLifestyle\\n\\nPrivacy\\n\\nSpecialty Forecasts\\n\\n10 Day Weather-Caracas, Capital District, Venezuela\\n\\nTonight\\n\\nWed 02 | Night\\n\\nCloudy. Low 66F. Winds light and variable.\\n\\nHeads-up\\n\\nMillions Across Midwest, South Face Dangerous Weather Conditions\\n\\nThu 03\\n\\nThu 03 | Day\\n\\nCloudy. High 77F. Winds E at 5 to 10 mph.\\n\\nThu 03 | Night\\n\\nCloudy. Low 63F. Winds light and variable.\\n\\nFri 04\\n\\nFri 04 | Day [...] Sat 12 | Day\\n\\nMostly cloudy skies early will become partly cloudy later in the day. High 82F. Winds light and variable.\\n\\nSat 12 | Night\\n\\nA few clouds from time to time. Low 66F. Winds light and variable.\\n\\nSun 13\\n\\nSun 13 | Day\\n\\nPartly cloudy. High 83F. Winds light and variable.\\n\\nSun 13 | Night\\n\\nPartly to mostly cloudy. Low 66F. Winds light and variable.\\n\\nMon 14\\n\\nMon 14 | Day\\n\\nSunshine and clouds mixed. High 83F. Winds light and variable.\\n\\nMon 14 | Night', 'score': 0.75442725}]\n"
     ]
    }
   ],
   "source": [
    "from langchain_community.tools.tavily_search import TavilySearchResults\n",
    "\n",
    "search = TavilySearchResults(max_results=2)\n",
    "search_results = search.invoke(\"What is the weather in Caracas, Venezuela\")\n",
    "print(search_results)\n",
    "tools = [search]"
   ]
  },
  {
   "cell_type": "code",
   "execution_count": 7,
   "id": "020cefd5-cc26-4872-b024-8bafc381d99b",
   "metadata": {},
   "outputs": [],
   "source": [
    "from langchain.chat_models import init_chat_model\n",
    "\n",
    "model = init_chat_model(\"llama-3.3-70b-versatile\", model_provider=\"groq\")\n"
   ]
  },
  {
   "cell_type": "code",
   "execution_count": 8,
   "id": "ab82a0e7-e6ae-4bde-8cfc-184dfb224d6b",
   "metadata": {},
   "outputs": [
    {
     "name": "stdout",
     "output_type": "stream",
     "text": [
      "Canada is a vast and geographically diverse country, spanning across six time zones and covering a wide range of climates and weather conditions. The weather in Canada can vary greatly depending on the region, season, and elevation. Here's a general overview of the typical weather patterns in different parts of Canada:\n",
      "\n",
      "** Seasons:**\n",
      "\n",
      "1. **Winter (December to February):** Cold temperatures, snow, and ice are common in most parts of Canada, especially in the provinces of Quebec, Ontario, and the Prairies. Temperatures can drop as low as -20°C to -30°C (-4°F to -22°F) in some areas.\n",
      "2. **Spring (March to May):** Mild temperatures, with occasional rain and snow showers, characterize this season. Daytime temperatures can rise to 10°C to 20°C (50°F to 68°F), while nighttime temperatures can still be cool.\n",
      "3. **Summer (June to August):** Warm to hot temperatures, with average highs ranging from 20°C to 30°C (68°F to 86°F), are typical in most parts of Canada. Humidity can be high in some regions, especially in the provinces of Ontario and Quebec.\n",
      "4. **Autumn (September to November):** Cool temperatures, with occasional rain and wind, mark the transition to winter. Daytime temperatures can range from 10°C to 20°C (50°F to 68°F), while nighttime temperatures can be cool to cold.\n",
      "\n",
      "**Regional Weather Patterns:**\n",
      "\n",
      "1. **British Columbia:** Mild winters, with average temperatures ranging from 3°C to 12°C (37°F to 54°F), and cool, wet summers.\n",
      "2. **Prairies (Alberta, Saskatchewan, Manitoba):** Cold winters, with temperatures often dropping below -20°C (-4°F), and warm summers, with temperatures sometimes reaching 30°C (86°F).\n",
      "3. **Ontario and Quebec:** Cold winters, with significant snowfall, and warm, humid summers.\n",
      "4. **Maritimes (Nova Scotia, New Brunswick, Prince Edward Island):** Mild winters, with average temperatures ranging from 0°C to 10°C (32°F to 50°F), and cool, wet summers.\n",
      "5. **Yukon, Northwest Territories, and Nunavut:** Extremely cold winters, with temperatures often dropping below -30°C (-22°F), and short, cool summers.\n",
      "\n",
      "**Other Weather Phenomena:**\n",
      "\n",
      "1. **Hurricanes:** Canada can experience hurricanes, especially in the Maritime provinces, although they are typically less intense than those in the United States.\n",
      "2. **Tornadoes:** Tornadoes can occur in Canada, primarily in the provinces of Alberta, Saskatchewan, and Manitoba.\n",
      "3. **Blizzards:** Severe snowstorms, known as blizzards, can affect parts of Canada, especially in the provinces of Quebec and Ontario.\n",
      "\n",
      "Keep in mind that these are general weather patterns, and local conditions can vary significantly. It's always a good idea to check current weather forecasts and warnings for specific locations in Canada.\n"
     ]
    }
   ],
   "source": [
    "from langchain_core.messages import HumanMessage\n",
    "\n",
    "response = model.invoke([HumanMessage(content=\"How is the weather usually in Canada?\")])\n",
    "print(response.content)"
   ]
  },
  {
   "cell_type": "code",
   "execution_count": 9,
   "id": "233be2b7-7cd2-4684-b44c-a4ffee053361",
   "metadata": {},
   "outputs": [],
   "source": [
    "model_with_tools = model.bind_tools(tools)"
   ]
  },
  {
   "cell_type": "code",
   "execution_count": 10,
   "id": "bd661862-2881-4df1-860a-3fc61b65161b",
   "metadata": {},
   "outputs": [
    {
     "name": "stdout",
     "output_type": "stream",
     "text": [
      "ContentString: \n",
      "ToolCalls: [{'name': 'tavily_search_results_json', 'args': {'query': 'San Francisco weather today'}, 'id': 'call_g6mv', 'type': 'tool_call'}]\n"
     ]
    }
   ],
   "source": [
    "response2 = model_with_tools.invoke([HumanMessage(content=\"What's the weather in SF?\")])\n",
    "\n",
    "print(f\"ContentString: {response2.content}\")\n",
    "print(f\"ToolCalls: {response2.tool_calls}\")"
   ]
  },
  {
   "cell_type": "code",
   "execution_count": 11,
   "id": "fc628813-8fb7-423b-a86c-1592f75128e4",
   "metadata": {},
   "outputs": [],
   "source": [
    "from langgraph.checkpoint.memory import MemorySaver\n",
    "\n",
    "memory = MemorySaver()"
   ]
  },
  {
   "cell_type": "code",
   "execution_count": 12,
   "id": "4a1ad29a-020d-4a67-961f-9600d5f63400",
   "metadata": {},
   "outputs": [],
   "source": [
    "from langgraph.prebuilt import create_react_agent\n",
    "\n",
    "agent_executor = create_react_agent(model, tools, checkpointer=memory)\n",
    "config = {\"configurable\" : { \"thread_id\" : \"abc123\"}}"
   ]
  },
  {
   "cell_type": "code",
   "execution_count": 13,
   "id": "5824c041-5526-43e3-9152-4cc4f918cec6",
   "metadata": {},
   "outputs": [
    {
     "name": "stdout",
     "output_type": "stream",
     "text": [
      "{'messages': [HumanMessage(content='hola. Me llamo Carlos, Me pudieras decir que tan seguro es un tesla cybertruck?', additional_kwargs={}, response_metadata={}, id='2abe1461-106f-46f9-8c20-f4073469dd13')]}\n",
      "================================\u001b[1m Human Message \u001b[0m=================================\n",
      "\n",
      "hola. Me llamo Carlos, Me pudieras decir que tan seguro es un tesla cybertruck?\n",
      "----\n",
      "{'messages': [HumanMessage(content='hola. Me llamo Carlos, Me pudieras decir que tan seguro es un tesla cybertruck?', additional_kwargs={}, response_metadata={}, id='2abe1461-106f-46f9-8c20-f4073469dd13'), AIMessage(content='', additional_kwargs={'tool_calls': [{'id': 'call_k33s', 'function': {'arguments': '{\"query\": \"Tesla Cybertruck safety\"}', 'name': 'tavily_search_results_json'}, 'type': 'function'}]}, response_metadata={'token_usage': {'completion_tokens': 21, 'prompt_tokens': 301, 'total_tokens': 322, 'completion_time': 0.076363636, 'prompt_time': 0.02717114, 'queue_time': 0.19917634399999998, 'total_time': 0.103534776}, 'model_name': 'llama-3.3-70b-versatile', 'system_fingerprint': 'fp_9a8b91ba77', 'finish_reason': 'tool_calls', 'logprobs': None}, id='run-85b78597-2c42-4d27-9f93-8598c4687929-0', tool_calls=[{'name': 'tavily_search_results_json', 'args': {'query': 'Tesla Cybertruck safety'}, 'id': 'call_k33s', 'type': 'tool_call'}], usage_metadata={'input_tokens': 301, 'output_tokens': 21, 'total_tokens': 322})]}\n",
      "==================================\u001b[1m Ai Message \u001b[0m==================================\n",
      "Tool Calls:\n",
      "  tavily_search_results_json (call_k33s)\n",
      " Call ID: call_k33s\n",
      "  Args:\n",
      "    query: Tesla Cybertruck safety\n",
      "----\n",
      "{'messages': [HumanMessage(content='hola. Me llamo Carlos, Me pudieras decir que tan seguro es un tesla cybertruck?', additional_kwargs={}, response_metadata={}, id='2abe1461-106f-46f9-8c20-f4073469dd13'), AIMessage(content='', additional_kwargs={'tool_calls': [{'id': 'call_k33s', 'function': {'arguments': '{\"query\": \"Tesla Cybertruck safety\"}', 'name': 'tavily_search_results_json'}, 'type': 'function'}]}, response_metadata={'token_usage': {'completion_tokens': 21, 'prompt_tokens': 301, 'total_tokens': 322, 'completion_time': 0.076363636, 'prompt_time': 0.02717114, 'queue_time': 0.19917634399999998, 'total_time': 0.103534776}, 'model_name': 'llama-3.3-70b-versatile', 'system_fingerprint': 'fp_9a8b91ba77', 'finish_reason': 'tool_calls', 'logprobs': None}, id='run-85b78597-2c42-4d27-9f93-8598c4687929-0', tool_calls=[{'name': 'tavily_search_results_json', 'args': {'query': 'Tesla Cybertruck safety'}, 'id': 'call_k33s', 'type': 'tool_call'}], usage_metadata={'input_tokens': 301, 'output_tokens': 21, 'total_tokens': 322}), ToolMessage(content='[{\"title\": \"Cybertruck Crushes Safety Tests With 5-Star Rating (Updated)\", \"url\": \"https://www.carscoops.com/2025/02/tesla-cybertruck-gets-five-star-safety-rating/\", \"content\": \"The National Highway Traffic Safety Administration has given the Tesla Cybertruck an overall safety rating of five stars.\", \"score\": 0.9381752}, {\"title\": \"Tesla Cybertruck scores high on driver safety in crash test - Chron\", \"url\": \"https://www.chron.com/culture/article/tesla-cybertruck-crash-test-20176311.php\", \"content\": \"The NHTSA published highly-anticipated results of its Cybertruck crash test this week, giving the car a five-star overall safety rating.\", \"score\": 0.88420963}]', name='tavily_search_results_json', id='edd8de22-4f56-4af0-9a88-bfdadeee1fb2', tool_call_id='call_k33s', artifact={'query': 'Tesla Cybertruck safety', 'follow_up_questions': None, 'answer': None, 'images': [], 'results': [{'url': 'https://www.carscoops.com/2025/02/tesla-cybertruck-gets-five-star-safety-rating/', 'title': 'Cybertruck Crushes Safety Tests With 5-Star Rating (Updated)', 'content': 'The National Highway Traffic Safety Administration has given the Tesla Cybertruck an overall safety rating of five stars.', 'score': 0.9381752, 'raw_content': None}, {'url': 'https://www.chron.com/culture/article/tesla-cybertruck-crash-test-20176311.php', 'title': 'Tesla Cybertruck scores high on driver safety in crash test - Chron', 'content': 'The NHTSA published highly-anticipated results of its Cybertruck crash test this week, giving the car a five-star overall safety rating.', 'score': 0.88420963, 'raw_content': None}], 'response_time': 1.24})]}\n",
      "=================================\u001b[1m Tool Message \u001b[0m=================================\n",
      "Name: tavily_search_results_json\n",
      "\n",
      "[{\"title\": \"Cybertruck Crushes Safety Tests With 5-Star Rating (Updated)\", \"url\": \"https://www.carscoops.com/2025/02/tesla-cybertruck-gets-five-star-safety-rating/\", \"content\": \"The National Highway Traffic Safety Administration has given the Tesla Cybertruck an overall safety rating of five stars.\", \"score\": 0.9381752}, {\"title\": \"Tesla Cybertruck scores high on driver safety in crash test - Chron\", \"url\": \"https://www.chron.com/culture/article/tesla-cybertruck-crash-test-20176311.php\", \"content\": \"The NHTSA published highly-anticipated results of its Cybertruck crash test this week, giving the car a five-star overall safety rating.\", \"score\": 0.88420963}]\n",
      "----\n",
      "{'messages': [HumanMessage(content='hola. Me llamo Carlos, Me pudieras decir que tan seguro es un tesla cybertruck?', additional_kwargs={}, response_metadata={}, id='2abe1461-106f-46f9-8c20-f4073469dd13'), AIMessage(content='', additional_kwargs={'tool_calls': [{'id': 'call_k33s', 'function': {'arguments': '{\"query\": \"Tesla Cybertruck safety\"}', 'name': 'tavily_search_results_json'}, 'type': 'function'}]}, response_metadata={'token_usage': {'completion_tokens': 21, 'prompt_tokens': 301, 'total_tokens': 322, 'completion_time': 0.076363636, 'prompt_time': 0.02717114, 'queue_time': 0.19917634399999998, 'total_time': 0.103534776}, 'model_name': 'llama-3.3-70b-versatile', 'system_fingerprint': 'fp_9a8b91ba77', 'finish_reason': 'tool_calls', 'logprobs': None}, id='run-85b78597-2c42-4d27-9f93-8598c4687929-0', tool_calls=[{'name': 'tavily_search_results_json', 'args': {'query': 'Tesla Cybertruck safety'}, 'id': 'call_k33s', 'type': 'tool_call'}], usage_metadata={'input_tokens': 301, 'output_tokens': 21, 'total_tokens': 322}), ToolMessage(content='[{\"title\": \"Cybertruck Crushes Safety Tests With 5-Star Rating (Updated)\", \"url\": \"https://www.carscoops.com/2025/02/tesla-cybertruck-gets-five-star-safety-rating/\", \"content\": \"The National Highway Traffic Safety Administration has given the Tesla Cybertruck an overall safety rating of five stars.\", \"score\": 0.9381752}, {\"title\": \"Tesla Cybertruck scores high on driver safety in crash test - Chron\", \"url\": \"https://www.chron.com/culture/article/tesla-cybertruck-crash-test-20176311.php\", \"content\": \"The NHTSA published highly-anticipated results of its Cybertruck crash test this week, giving the car a five-star overall safety rating.\", \"score\": 0.88420963}]', name='tavily_search_results_json', id='edd8de22-4f56-4af0-9a88-bfdadeee1fb2', tool_call_id='call_k33s', artifact={'query': 'Tesla Cybertruck safety', 'follow_up_questions': None, 'answer': None, 'images': [], 'results': [{'url': 'https://www.carscoops.com/2025/02/tesla-cybertruck-gets-five-star-safety-rating/', 'title': 'Cybertruck Crushes Safety Tests With 5-Star Rating (Updated)', 'content': 'The National Highway Traffic Safety Administration has given the Tesla Cybertruck an overall safety rating of five stars.', 'score': 0.9381752, 'raw_content': None}, {'url': 'https://www.chron.com/culture/article/tesla-cybertruck-crash-test-20176311.php', 'title': 'Tesla Cybertruck scores high on driver safety in crash test - Chron', 'content': 'The NHTSA published highly-anticipated results of its Cybertruck crash test this week, giving the car a five-star overall safety rating.', 'score': 0.88420963, 'raw_content': None}], 'response_time': 1.24}), AIMessage(content='', additional_kwargs={'tool_calls': [{'id': 'call_g2sv', 'function': {'arguments': '{\"query\": \"Cybertruck seguridad\"}', 'name': 'tavily_search_results_json'}, 'type': 'function'}]}, response_metadata={'token_usage': {'completion_tokens': 21, 'prompt_tokens': 507, 'total_tokens': 528, 'completion_time': 0.076363636, 'prompt_time': 0.033099881, 'queue_time': 0.199506892, 'total_time': 0.109463517}, 'model_name': 'llama-3.3-70b-versatile', 'system_fingerprint': 'fp_6507bcfb6f', 'finish_reason': 'tool_calls', 'logprobs': None}, id='run-97d26a2b-7d5e-4f0c-8b0d-89256dfc2eb1-0', tool_calls=[{'name': 'tavily_search_results_json', 'args': {'query': 'Cybertruck seguridad'}, 'id': 'call_g2sv', 'type': 'tool_call'}], usage_metadata={'input_tokens': 507, 'output_tokens': 21, 'total_tokens': 528})]}\n",
      "==================================\u001b[1m Ai Message \u001b[0m==================================\n",
      "Tool Calls:\n",
      "  tavily_search_results_json (call_g2sv)\n",
      " Call ID: call_g2sv\n",
      "  Args:\n",
      "    query: Cybertruck seguridad\n",
      "----\n",
      "{'messages': [HumanMessage(content='hola. Me llamo Carlos, Me pudieras decir que tan seguro es un tesla cybertruck?', additional_kwargs={}, response_metadata={}, id='2abe1461-106f-46f9-8c20-f4073469dd13'), AIMessage(content='', additional_kwargs={'tool_calls': [{'id': 'call_k33s', 'function': {'arguments': '{\"query\": \"Tesla Cybertruck safety\"}', 'name': 'tavily_search_results_json'}, 'type': 'function'}]}, response_metadata={'token_usage': {'completion_tokens': 21, 'prompt_tokens': 301, 'total_tokens': 322, 'completion_time': 0.076363636, 'prompt_time': 0.02717114, 'queue_time': 0.19917634399999998, 'total_time': 0.103534776}, 'model_name': 'llama-3.3-70b-versatile', 'system_fingerprint': 'fp_9a8b91ba77', 'finish_reason': 'tool_calls', 'logprobs': None}, id='run-85b78597-2c42-4d27-9f93-8598c4687929-0', tool_calls=[{'name': 'tavily_search_results_json', 'args': {'query': 'Tesla Cybertruck safety'}, 'id': 'call_k33s', 'type': 'tool_call'}], usage_metadata={'input_tokens': 301, 'output_tokens': 21, 'total_tokens': 322}), ToolMessage(content='[{\"title\": \"Cybertruck Crushes Safety Tests With 5-Star Rating (Updated)\", \"url\": \"https://www.carscoops.com/2025/02/tesla-cybertruck-gets-five-star-safety-rating/\", \"content\": \"The National Highway Traffic Safety Administration has given the Tesla Cybertruck an overall safety rating of five stars.\", \"score\": 0.9381752}, {\"title\": \"Tesla Cybertruck scores high on driver safety in crash test - Chron\", \"url\": \"https://www.chron.com/culture/article/tesla-cybertruck-crash-test-20176311.php\", \"content\": \"The NHTSA published highly-anticipated results of its Cybertruck crash test this week, giving the car a five-star overall safety rating.\", \"score\": 0.88420963}]', name='tavily_search_results_json', id='edd8de22-4f56-4af0-9a88-bfdadeee1fb2', tool_call_id='call_k33s', artifact={'query': 'Tesla Cybertruck safety', 'follow_up_questions': None, 'answer': None, 'images': [], 'results': [{'url': 'https://www.carscoops.com/2025/02/tesla-cybertruck-gets-five-star-safety-rating/', 'title': 'Cybertruck Crushes Safety Tests With 5-Star Rating (Updated)', 'content': 'The National Highway Traffic Safety Administration has given the Tesla Cybertruck an overall safety rating of five stars.', 'score': 0.9381752, 'raw_content': None}, {'url': 'https://www.chron.com/culture/article/tesla-cybertruck-crash-test-20176311.php', 'title': 'Tesla Cybertruck scores high on driver safety in crash test - Chron', 'content': 'The NHTSA published highly-anticipated results of its Cybertruck crash test this week, giving the car a five-star overall safety rating.', 'score': 0.88420963, 'raw_content': None}], 'response_time': 1.24}), AIMessage(content='', additional_kwargs={'tool_calls': [{'id': 'call_g2sv', 'function': {'arguments': '{\"query\": \"Cybertruck seguridad\"}', 'name': 'tavily_search_results_json'}, 'type': 'function'}]}, response_metadata={'token_usage': {'completion_tokens': 21, 'prompt_tokens': 507, 'total_tokens': 528, 'completion_time': 0.076363636, 'prompt_time': 0.033099881, 'queue_time': 0.199506892, 'total_time': 0.109463517}, 'model_name': 'llama-3.3-70b-versatile', 'system_fingerprint': 'fp_6507bcfb6f', 'finish_reason': 'tool_calls', 'logprobs': None}, id='run-97d26a2b-7d5e-4f0c-8b0d-89256dfc2eb1-0', tool_calls=[{'name': 'tavily_search_results_json', 'args': {'query': 'Cybertruck seguridad'}, 'id': 'call_g2sv', 'type': 'tool_call'}], usage_metadata={'input_tokens': 507, 'output_tokens': 21, 'total_tokens': 528}), ToolMessage(content='[{\"title\": \"Cybertruck de Tesla obtiene cinco estrellas en pruebas de seguridad\", \"url\": \"https://www.infobae.com/tecno/2025/02/20/cybertruck-de-tesla-obtiene-cinco-estrellas-en-pruebas-de-seguridad-hay-un-detalle-en-la-proteccion-de-pasajeros/\", \"content\": \"En la simulación de una colisión frontal, Cybertruck se estrelló contra una barrera rígida plana a 56.33 km/h. Como resultado, la Nhtsa otorgó al vehículo una calificación de cinco estrellas para la seguridad del conductor, pero una calificación de cuatro estrellas para la protección de los pasajeros. [...] 2 Abr, 2025\\\\n\\\\nCybertruck de Tesla obtiene cinco estrellas en pruebas de seguridad: hay un detalle en la protección de pasajeros\\\\n\\\\nUna agencia del Gobierno de Estados Unidos realiza estas evaluaciones para que los usuarios cuenten con información sobre cómo cada vehículo se comporta en situaciones reales de colisiones\\\\n\\\\nPor  Isabela Durán San Juan [...] La camioneta Cybertruck de Tesla ha recibido una calificación de cinco estrellas en las pruebas de colisión realizadas por la Administración Nacional de Seguridad del Tráfico en las Carreteras (Nhtsa) de Estados Unidos. Estas pruebas abarcan varias categorías, incluyendo colisiones frontales y laterales, así como el riesgo de vuelco.\", \"score\": 0.8588255}, {\"title\": \"Calificación de Seguridad de 5 Estrellas | Cybertruck : r/teslamotors\", \"url\": \"https://www.reddit.com/r/teslamotors/comments/1itk8a1/5star_safety_rating_cybertruck/?tl=es-es\", \"content\": \"La Cybertruck solo obtuvo 4 estrellas para el pasajero en el resultado de la prueba de choque frontal. El pasajero ni siquiera necesita\", \"score\": 0.81630427}]', name='tavily_search_results_json', id='80011680-5767-45b7-b8a9-33a2fe45efdf', tool_call_id='call_g2sv', artifact={'query': 'Cybertruck seguridad', 'follow_up_questions': None, 'answer': None, 'images': [], 'results': [{'url': 'https://www.infobae.com/tecno/2025/02/20/cybertruck-de-tesla-obtiene-cinco-estrellas-en-pruebas-de-seguridad-hay-un-detalle-en-la-proteccion-de-pasajeros/', 'title': 'Cybertruck de Tesla obtiene cinco estrellas en pruebas de seguridad', 'content': 'En la simulación de una colisión frontal, Cybertruck se estrelló contra una barrera rígida plana a 56.33 km/h. Como resultado, la Nhtsa otorgó al vehículo una calificación de cinco estrellas para la seguridad del conductor, pero una calificación de cuatro estrellas para la protección de los pasajeros. [...] 2 Abr, 2025\\n\\nCybertruck de Tesla obtiene cinco estrellas en pruebas de seguridad: hay un detalle en la protección de pasajeros\\n\\nUna agencia del Gobierno de Estados Unidos realiza estas evaluaciones para que los usuarios cuenten con información sobre cómo cada vehículo se comporta en situaciones reales de colisiones\\n\\nPor  Isabela Durán San Juan [...] La camioneta Cybertruck de Tesla ha recibido una calificación de cinco estrellas en las pruebas de colisión realizadas por la Administración Nacional de Seguridad del Tráfico en las Carreteras (Nhtsa) de Estados Unidos. Estas pruebas abarcan varias categorías, incluyendo colisiones frontales y laterales, así como el riesgo de vuelco.', 'score': 0.8588255, 'raw_content': None}, {'url': 'https://www.reddit.com/r/teslamotors/comments/1itk8a1/5star_safety_rating_cybertruck/?tl=es-es', 'title': 'Calificación de Seguridad de 5 Estrellas | Cybertruck : r/teslamotors', 'content': 'La Cybertruck solo obtuvo 4 estrellas para el pasajero en el resultado de la prueba de choque frontal. El pasajero ni siquiera necesita', 'score': 0.81630427, 'raw_content': None}], 'response_time': 3.61})]}\n",
      "=================================\u001b[1m Tool Message \u001b[0m=================================\n",
      "Name: tavily_search_results_json\n",
      "\n",
      "[{\"title\": \"Cybertruck de Tesla obtiene cinco estrellas en pruebas de seguridad\", \"url\": \"https://www.infobae.com/tecno/2025/02/20/cybertruck-de-tesla-obtiene-cinco-estrellas-en-pruebas-de-seguridad-hay-un-detalle-en-la-proteccion-de-pasajeros/\", \"content\": \"En la simulación de una colisión frontal, Cybertruck se estrelló contra una barrera rígida plana a 56.33 km/h. Como resultado, la Nhtsa otorgó al vehículo una calificación de cinco estrellas para la seguridad del conductor, pero una calificación de cuatro estrellas para la protección de los pasajeros. [...] 2 Abr, 2025\\n\\nCybertruck de Tesla obtiene cinco estrellas en pruebas de seguridad: hay un detalle en la protección de pasajeros\\n\\nUna agencia del Gobierno de Estados Unidos realiza estas evaluaciones para que los usuarios cuenten con información sobre cómo cada vehículo se comporta en situaciones reales de colisiones\\n\\nPor  Isabela Durán San Juan [...] La camioneta Cybertruck de Tesla ha recibido una calificación de cinco estrellas en las pruebas de colisión realizadas por la Administración Nacional de Seguridad del Tráfico en las Carreteras (Nhtsa) de Estados Unidos. Estas pruebas abarcan varias categorías, incluyendo colisiones frontales y laterales, así como el riesgo de vuelco.\", \"score\": 0.8588255}, {\"title\": \"Calificación de Seguridad de 5 Estrellas | Cybertruck : r/teslamotors\", \"url\": \"https://www.reddit.com/r/teslamotors/comments/1itk8a1/5star_safety_rating_cybertruck/?tl=es-es\", \"content\": \"La Cybertruck solo obtuvo 4 estrellas para el pasajero en el resultado de la prueba de choque frontal. El pasajero ni siquiera necesita\", \"score\": 0.81630427}]\n",
      "----\n",
      "{'messages': [HumanMessage(content='hola. Me llamo Carlos, Me pudieras decir que tan seguro es un tesla cybertruck?', additional_kwargs={}, response_metadata={}, id='2abe1461-106f-46f9-8c20-f4073469dd13'), AIMessage(content='', additional_kwargs={'tool_calls': [{'id': 'call_k33s', 'function': {'arguments': '{\"query\": \"Tesla Cybertruck safety\"}', 'name': 'tavily_search_results_json'}, 'type': 'function'}]}, response_metadata={'token_usage': {'completion_tokens': 21, 'prompt_tokens': 301, 'total_tokens': 322, 'completion_time': 0.076363636, 'prompt_time': 0.02717114, 'queue_time': 0.19917634399999998, 'total_time': 0.103534776}, 'model_name': 'llama-3.3-70b-versatile', 'system_fingerprint': 'fp_9a8b91ba77', 'finish_reason': 'tool_calls', 'logprobs': None}, id='run-85b78597-2c42-4d27-9f93-8598c4687929-0', tool_calls=[{'name': 'tavily_search_results_json', 'args': {'query': 'Tesla Cybertruck safety'}, 'id': 'call_k33s', 'type': 'tool_call'}], usage_metadata={'input_tokens': 301, 'output_tokens': 21, 'total_tokens': 322}), ToolMessage(content='[{\"title\": \"Cybertruck Crushes Safety Tests With 5-Star Rating (Updated)\", \"url\": \"https://www.carscoops.com/2025/02/tesla-cybertruck-gets-five-star-safety-rating/\", \"content\": \"The National Highway Traffic Safety Administration has given the Tesla Cybertruck an overall safety rating of five stars.\", \"score\": 0.9381752}, {\"title\": \"Tesla Cybertruck scores high on driver safety in crash test - Chron\", \"url\": \"https://www.chron.com/culture/article/tesla-cybertruck-crash-test-20176311.php\", \"content\": \"The NHTSA published highly-anticipated results of its Cybertruck crash test this week, giving the car a five-star overall safety rating.\", \"score\": 0.88420963}]', name='tavily_search_results_json', id='edd8de22-4f56-4af0-9a88-bfdadeee1fb2', tool_call_id='call_k33s', artifact={'query': 'Tesla Cybertruck safety', 'follow_up_questions': None, 'answer': None, 'images': [], 'results': [{'url': 'https://www.carscoops.com/2025/02/tesla-cybertruck-gets-five-star-safety-rating/', 'title': 'Cybertruck Crushes Safety Tests With 5-Star Rating (Updated)', 'content': 'The National Highway Traffic Safety Administration has given the Tesla Cybertruck an overall safety rating of five stars.', 'score': 0.9381752, 'raw_content': None}, {'url': 'https://www.chron.com/culture/article/tesla-cybertruck-crash-test-20176311.php', 'title': 'Tesla Cybertruck scores high on driver safety in crash test - Chron', 'content': 'The NHTSA published highly-anticipated results of its Cybertruck crash test this week, giving the car a five-star overall safety rating.', 'score': 0.88420963, 'raw_content': None}], 'response_time': 1.24}), AIMessage(content='', additional_kwargs={'tool_calls': [{'id': 'call_g2sv', 'function': {'arguments': '{\"query\": \"Cybertruck seguridad\"}', 'name': 'tavily_search_results_json'}, 'type': 'function'}]}, response_metadata={'token_usage': {'completion_tokens': 21, 'prompt_tokens': 507, 'total_tokens': 528, 'completion_time': 0.076363636, 'prompt_time': 0.033099881, 'queue_time': 0.199506892, 'total_time': 0.109463517}, 'model_name': 'llama-3.3-70b-versatile', 'system_fingerprint': 'fp_6507bcfb6f', 'finish_reason': 'tool_calls', 'logprobs': None}, id='run-97d26a2b-7d5e-4f0c-8b0d-89256dfc2eb1-0', tool_calls=[{'name': 'tavily_search_results_json', 'args': {'query': 'Cybertruck seguridad'}, 'id': 'call_g2sv', 'type': 'tool_call'}], usage_metadata={'input_tokens': 507, 'output_tokens': 21, 'total_tokens': 528}), ToolMessage(content='[{\"title\": \"Cybertruck de Tesla obtiene cinco estrellas en pruebas de seguridad\", \"url\": \"https://www.infobae.com/tecno/2025/02/20/cybertruck-de-tesla-obtiene-cinco-estrellas-en-pruebas-de-seguridad-hay-un-detalle-en-la-proteccion-de-pasajeros/\", \"content\": \"En la simulación de una colisión frontal, Cybertruck se estrelló contra una barrera rígida plana a 56.33 km/h. Como resultado, la Nhtsa otorgó al vehículo una calificación de cinco estrellas para la seguridad del conductor, pero una calificación de cuatro estrellas para la protección de los pasajeros. [...] 2 Abr, 2025\\\\n\\\\nCybertruck de Tesla obtiene cinco estrellas en pruebas de seguridad: hay un detalle en la protección de pasajeros\\\\n\\\\nUna agencia del Gobierno de Estados Unidos realiza estas evaluaciones para que los usuarios cuenten con información sobre cómo cada vehículo se comporta en situaciones reales de colisiones\\\\n\\\\nPor  Isabela Durán San Juan [...] La camioneta Cybertruck de Tesla ha recibido una calificación de cinco estrellas en las pruebas de colisión realizadas por la Administración Nacional de Seguridad del Tráfico en las Carreteras (Nhtsa) de Estados Unidos. Estas pruebas abarcan varias categorías, incluyendo colisiones frontales y laterales, así como el riesgo de vuelco.\", \"score\": 0.8588255}, {\"title\": \"Calificación de Seguridad de 5 Estrellas | Cybertruck : r/teslamotors\", \"url\": \"https://www.reddit.com/r/teslamotors/comments/1itk8a1/5star_safety_rating_cybertruck/?tl=es-es\", \"content\": \"La Cybertruck solo obtuvo 4 estrellas para el pasajero en el resultado de la prueba de choque frontal. El pasajero ni siquiera necesita\", \"score\": 0.81630427}]', name='tavily_search_results_json', id='80011680-5767-45b7-b8a9-33a2fe45efdf', tool_call_id='call_g2sv', artifact={'query': 'Cybertruck seguridad', 'follow_up_questions': None, 'answer': None, 'images': [], 'results': [{'url': 'https://www.infobae.com/tecno/2025/02/20/cybertruck-de-tesla-obtiene-cinco-estrellas-en-pruebas-de-seguridad-hay-un-detalle-en-la-proteccion-de-pasajeros/', 'title': 'Cybertruck de Tesla obtiene cinco estrellas en pruebas de seguridad', 'content': 'En la simulación de una colisión frontal, Cybertruck se estrelló contra una barrera rígida plana a 56.33 km/h. Como resultado, la Nhtsa otorgó al vehículo una calificación de cinco estrellas para la seguridad del conductor, pero una calificación de cuatro estrellas para la protección de los pasajeros. [...] 2 Abr, 2025\\n\\nCybertruck de Tesla obtiene cinco estrellas en pruebas de seguridad: hay un detalle en la protección de pasajeros\\n\\nUna agencia del Gobierno de Estados Unidos realiza estas evaluaciones para que los usuarios cuenten con información sobre cómo cada vehículo se comporta en situaciones reales de colisiones\\n\\nPor  Isabela Durán San Juan [...] La camioneta Cybertruck de Tesla ha recibido una calificación de cinco estrellas en las pruebas de colisión realizadas por la Administración Nacional de Seguridad del Tráfico en las Carreteras (Nhtsa) de Estados Unidos. Estas pruebas abarcan varias categorías, incluyendo colisiones frontales y laterales, así como el riesgo de vuelco.', 'score': 0.8588255, 'raw_content': None}, {'url': 'https://www.reddit.com/r/teslamotors/comments/1itk8a1/5star_safety_rating_cybertruck/?tl=es-es', 'title': 'Calificación de Seguridad de 5 Estrellas | Cybertruck : r/teslamotors', 'content': 'La Cybertruck solo obtuvo 4 estrellas para el pasajero en el resultado de la prueba de choque frontal. El pasajero ni siquiera necesita', 'score': 0.81630427, 'raw_content': None}], 'response_time': 3.61}), AIMessage(content='El Tesla Cybertruck ha obtenido una calificación de seguridad de 5 estrellas en las pruebas de colisión realizadas por la Administración Nacional de Seguridad del Tráfico en las Carreteras (NHTSA) de Estados Unidos. Sin embargo, es importante destacar que en la prueba de choque frontal, el vehículo obtuvo 4 estrellas para la protección del pasajero, lo que sugiere que hay un detalle en la protección de los pasajeros que debe ser considerado. En general, el Cybertruck ha demostrado ser un vehículo seguro, pero es importante tener en cuenta esta información para tomar decisiones informadas.', additional_kwargs={}, response_metadata={'token_usage': {'completion_tokens': 141, 'prompt_tokens': 997, 'total_tokens': 1138, 'completion_time': 0.512727273, 'prompt_time': 0.072311928, 'queue_time': 0.20783194200000002, 'total_time': 0.585039201}, 'model_name': 'llama-3.3-70b-versatile', 'system_fingerprint': 'fp_72a5dc99ee', 'finish_reason': 'stop', 'logprobs': None}, id='run-65178a18-dd32-4216-bebb-3a088510b0d6-0', usage_metadata={'input_tokens': 997, 'output_tokens': 141, 'total_tokens': 1138})]}\n",
      "==================================\u001b[1m Ai Message \u001b[0m==================================\n",
      "\n",
      "El Tesla Cybertruck ha obtenido una calificación de seguridad de 5 estrellas en las pruebas de colisión realizadas por la Administración Nacional de Seguridad del Tráfico en las Carreteras (NHTSA) de Estados Unidos. Sin embargo, es importante destacar que en la prueba de choque frontal, el vehículo obtuvo 4 estrellas para la protección del pasajero, lo que sugiere que hay un detalle en la protección de los pasajeros que debe ser considerado. En general, el Cybertruck ha demostrado ser un vehículo seguro, pero es importante tener en cuenta esta información para tomar decisiones informadas.\n",
      "----\n"
     ]
    }
   ],
   "source": [
    "for chunk in agent_executor.stream(\n",
    "    {\"messages\": [HumanMessage(content=\"hola. Me llamo Carlos, Me pudieras decir que tan seguro es un tesla cybertruck?\")]}, \n",
    "    config,\n",
    "    stream_mode=\"values\",\n",
    "):\n",
    "    print(chunk)\n",
    "    chunk[\"messages\"][-1].pretty_print()\n",
    "    print(\"----\")"
   ]
  },
  {
   "cell_type": "code",
   "execution_count": 14,
   "id": "4be0ed09",
   "metadata": {},
   "outputs": [
    {
     "name": "stdout",
     "output_type": "stream",
     "text": [
      "{'messages': [HumanMessage(content='hola. Me llamo Carlos, Me pudieras decir que tan seguro es un tesla cybertruck?', additional_kwargs={}, response_metadata={}, id='2abe1461-106f-46f9-8c20-f4073469dd13'), AIMessage(content='', additional_kwargs={'tool_calls': [{'id': 'call_k33s', 'function': {'arguments': '{\"query\": \"Tesla Cybertruck safety\"}', 'name': 'tavily_search_results_json'}, 'type': 'function'}]}, response_metadata={'token_usage': {'completion_tokens': 21, 'prompt_tokens': 301, 'total_tokens': 322, 'completion_time': 0.076363636, 'prompt_time': 0.02717114, 'queue_time': 0.19917634399999998, 'total_time': 0.103534776}, 'model_name': 'llama-3.3-70b-versatile', 'system_fingerprint': 'fp_9a8b91ba77', 'finish_reason': 'tool_calls', 'logprobs': None}, id='run-85b78597-2c42-4d27-9f93-8598c4687929-0', tool_calls=[{'name': 'tavily_search_results_json', 'args': {'query': 'Tesla Cybertruck safety'}, 'id': 'call_k33s', 'type': 'tool_call'}], usage_metadata={'input_tokens': 301, 'output_tokens': 21, 'total_tokens': 322}), ToolMessage(content='[{\"title\": \"Cybertruck Crushes Safety Tests With 5-Star Rating (Updated)\", \"url\": \"https://www.carscoops.com/2025/02/tesla-cybertruck-gets-five-star-safety-rating/\", \"content\": \"The National Highway Traffic Safety Administration has given the Tesla Cybertruck an overall safety rating of five stars.\", \"score\": 0.9381752}, {\"title\": \"Tesla Cybertruck scores high on driver safety in crash test - Chron\", \"url\": \"https://www.chron.com/culture/article/tesla-cybertruck-crash-test-20176311.php\", \"content\": \"The NHTSA published highly-anticipated results of its Cybertruck crash test this week, giving the car a five-star overall safety rating.\", \"score\": 0.88420963}]', name='tavily_search_results_json', id='edd8de22-4f56-4af0-9a88-bfdadeee1fb2', tool_call_id='call_k33s', artifact={'query': 'Tesla Cybertruck safety', 'follow_up_questions': None, 'answer': None, 'images': [], 'results': [{'url': 'https://www.carscoops.com/2025/02/tesla-cybertruck-gets-five-star-safety-rating/', 'title': 'Cybertruck Crushes Safety Tests With 5-Star Rating (Updated)', 'content': 'The National Highway Traffic Safety Administration has given the Tesla Cybertruck an overall safety rating of five stars.', 'score': 0.9381752, 'raw_content': None}, {'url': 'https://www.chron.com/culture/article/tesla-cybertruck-crash-test-20176311.php', 'title': 'Tesla Cybertruck scores high on driver safety in crash test - Chron', 'content': 'The NHTSA published highly-anticipated results of its Cybertruck crash test this week, giving the car a five-star overall safety rating.', 'score': 0.88420963, 'raw_content': None}], 'response_time': 1.24}), AIMessage(content='', additional_kwargs={'tool_calls': [{'id': 'call_g2sv', 'function': {'arguments': '{\"query\": \"Cybertruck seguridad\"}', 'name': 'tavily_search_results_json'}, 'type': 'function'}]}, response_metadata={'token_usage': {'completion_tokens': 21, 'prompt_tokens': 507, 'total_tokens': 528, 'completion_time': 0.076363636, 'prompt_time': 0.033099881, 'queue_time': 0.199506892, 'total_time': 0.109463517}, 'model_name': 'llama-3.3-70b-versatile', 'system_fingerprint': 'fp_6507bcfb6f', 'finish_reason': 'tool_calls', 'logprobs': None}, id='run-97d26a2b-7d5e-4f0c-8b0d-89256dfc2eb1-0', tool_calls=[{'name': 'tavily_search_results_json', 'args': {'query': 'Cybertruck seguridad'}, 'id': 'call_g2sv', 'type': 'tool_call'}], usage_metadata={'input_tokens': 507, 'output_tokens': 21, 'total_tokens': 528}), ToolMessage(content='[{\"title\": \"Cybertruck de Tesla obtiene cinco estrellas en pruebas de seguridad\", \"url\": \"https://www.infobae.com/tecno/2025/02/20/cybertruck-de-tesla-obtiene-cinco-estrellas-en-pruebas-de-seguridad-hay-un-detalle-en-la-proteccion-de-pasajeros/\", \"content\": \"En la simulación de una colisión frontal, Cybertruck se estrelló contra una barrera rígida plana a 56.33 km/h. Como resultado, la Nhtsa otorgó al vehículo una calificación de cinco estrellas para la seguridad del conductor, pero una calificación de cuatro estrellas para la protección de los pasajeros. [...] 2 Abr, 2025\\\\n\\\\nCybertruck de Tesla obtiene cinco estrellas en pruebas de seguridad: hay un detalle en la protección de pasajeros\\\\n\\\\nUna agencia del Gobierno de Estados Unidos realiza estas evaluaciones para que los usuarios cuenten con información sobre cómo cada vehículo se comporta en situaciones reales de colisiones\\\\n\\\\nPor  Isabela Durán San Juan [...] La camioneta Cybertruck de Tesla ha recibido una calificación de cinco estrellas en las pruebas de colisión realizadas por la Administración Nacional de Seguridad del Tráfico en las Carreteras (Nhtsa) de Estados Unidos. Estas pruebas abarcan varias categorías, incluyendo colisiones frontales y laterales, así como el riesgo de vuelco.\", \"score\": 0.8588255}, {\"title\": \"Calificación de Seguridad de 5 Estrellas | Cybertruck : r/teslamotors\", \"url\": \"https://www.reddit.com/r/teslamotors/comments/1itk8a1/5star_safety_rating_cybertruck/?tl=es-es\", \"content\": \"La Cybertruck solo obtuvo 4 estrellas para el pasajero en el resultado de la prueba de choque frontal. El pasajero ni siquiera necesita\", \"score\": 0.81630427}]', name='tavily_search_results_json', id='80011680-5767-45b7-b8a9-33a2fe45efdf', tool_call_id='call_g2sv', artifact={'query': 'Cybertruck seguridad', 'follow_up_questions': None, 'answer': None, 'images': [], 'results': [{'url': 'https://www.infobae.com/tecno/2025/02/20/cybertruck-de-tesla-obtiene-cinco-estrellas-en-pruebas-de-seguridad-hay-un-detalle-en-la-proteccion-de-pasajeros/', 'title': 'Cybertruck de Tesla obtiene cinco estrellas en pruebas de seguridad', 'content': 'En la simulación de una colisión frontal, Cybertruck se estrelló contra una barrera rígida plana a 56.33 km/h. Como resultado, la Nhtsa otorgó al vehículo una calificación de cinco estrellas para la seguridad del conductor, pero una calificación de cuatro estrellas para la protección de los pasajeros. [...] 2 Abr, 2025\\n\\nCybertruck de Tesla obtiene cinco estrellas en pruebas de seguridad: hay un detalle en la protección de pasajeros\\n\\nUna agencia del Gobierno de Estados Unidos realiza estas evaluaciones para que los usuarios cuenten con información sobre cómo cada vehículo se comporta en situaciones reales de colisiones\\n\\nPor  Isabela Durán San Juan [...] La camioneta Cybertruck de Tesla ha recibido una calificación de cinco estrellas en las pruebas de colisión realizadas por la Administración Nacional de Seguridad del Tráfico en las Carreteras (Nhtsa) de Estados Unidos. Estas pruebas abarcan varias categorías, incluyendo colisiones frontales y laterales, así como el riesgo de vuelco.', 'score': 0.8588255, 'raw_content': None}, {'url': 'https://www.reddit.com/r/teslamotors/comments/1itk8a1/5star_safety_rating_cybertruck/?tl=es-es', 'title': 'Calificación de Seguridad de 5 Estrellas | Cybertruck : r/teslamotors', 'content': 'La Cybertruck solo obtuvo 4 estrellas para el pasajero en el resultado de la prueba de choque frontal. El pasajero ni siquiera necesita', 'score': 0.81630427, 'raw_content': None}], 'response_time': 3.61}), AIMessage(content='El Tesla Cybertruck ha obtenido una calificación de seguridad de 5 estrellas en las pruebas de colisión realizadas por la Administración Nacional de Seguridad del Tráfico en las Carreteras (NHTSA) de Estados Unidos. Sin embargo, es importante destacar que en la prueba de choque frontal, el vehículo obtuvo 4 estrellas para la protección del pasajero, lo que sugiere que hay un detalle en la protección de los pasajeros que debe ser considerado. En general, el Cybertruck ha demostrado ser un vehículo seguro, pero es importante tener en cuenta esta información para tomar decisiones informadas.', additional_kwargs={}, response_metadata={'token_usage': {'completion_tokens': 141, 'prompt_tokens': 997, 'total_tokens': 1138, 'completion_time': 0.512727273, 'prompt_time': 0.072311928, 'queue_time': 0.20783194200000002, 'total_time': 0.585039201}, 'model_name': 'llama-3.3-70b-versatile', 'system_fingerprint': 'fp_72a5dc99ee', 'finish_reason': 'stop', 'logprobs': None}, id='run-65178a18-dd32-4216-bebb-3a088510b0d6-0', usage_metadata={'input_tokens': 997, 'output_tokens': 141, 'total_tokens': 1138}), HumanMessage(content='Me puedes decir como me llamo?', additional_kwargs={}, response_metadata={}, id='cbc9653d-7c24-4a5e-bedf-5b90b5de4c44')]}\n",
      "================================\u001b[1m Human Message \u001b[0m=================================\n",
      "\n",
      "Me puedes decir como me llamo?\n",
      "----\n",
      "{'messages': [HumanMessage(content='hola. Me llamo Carlos, Me pudieras decir que tan seguro es un tesla cybertruck?', additional_kwargs={}, response_metadata={}, id='2abe1461-106f-46f9-8c20-f4073469dd13'), AIMessage(content='', additional_kwargs={'tool_calls': [{'id': 'call_k33s', 'function': {'arguments': '{\"query\": \"Tesla Cybertruck safety\"}', 'name': 'tavily_search_results_json'}, 'type': 'function'}]}, response_metadata={'token_usage': {'completion_tokens': 21, 'prompt_tokens': 301, 'total_tokens': 322, 'completion_time': 0.076363636, 'prompt_time': 0.02717114, 'queue_time': 0.19917634399999998, 'total_time': 0.103534776}, 'model_name': 'llama-3.3-70b-versatile', 'system_fingerprint': 'fp_9a8b91ba77', 'finish_reason': 'tool_calls', 'logprobs': None}, id='run-85b78597-2c42-4d27-9f93-8598c4687929-0', tool_calls=[{'name': 'tavily_search_results_json', 'args': {'query': 'Tesla Cybertruck safety'}, 'id': 'call_k33s', 'type': 'tool_call'}], usage_metadata={'input_tokens': 301, 'output_tokens': 21, 'total_tokens': 322}), ToolMessage(content='[{\"title\": \"Cybertruck Crushes Safety Tests With 5-Star Rating (Updated)\", \"url\": \"https://www.carscoops.com/2025/02/tesla-cybertruck-gets-five-star-safety-rating/\", \"content\": \"The National Highway Traffic Safety Administration has given the Tesla Cybertruck an overall safety rating of five stars.\", \"score\": 0.9381752}, {\"title\": \"Tesla Cybertruck scores high on driver safety in crash test - Chron\", \"url\": \"https://www.chron.com/culture/article/tesla-cybertruck-crash-test-20176311.php\", \"content\": \"The NHTSA published highly-anticipated results of its Cybertruck crash test this week, giving the car a five-star overall safety rating.\", \"score\": 0.88420963}]', name='tavily_search_results_json', id='edd8de22-4f56-4af0-9a88-bfdadeee1fb2', tool_call_id='call_k33s', artifact={'query': 'Tesla Cybertruck safety', 'follow_up_questions': None, 'answer': None, 'images': [], 'results': [{'url': 'https://www.carscoops.com/2025/02/tesla-cybertruck-gets-five-star-safety-rating/', 'title': 'Cybertruck Crushes Safety Tests With 5-Star Rating (Updated)', 'content': 'The National Highway Traffic Safety Administration has given the Tesla Cybertruck an overall safety rating of five stars.', 'score': 0.9381752, 'raw_content': None}, {'url': 'https://www.chron.com/culture/article/tesla-cybertruck-crash-test-20176311.php', 'title': 'Tesla Cybertruck scores high on driver safety in crash test - Chron', 'content': 'The NHTSA published highly-anticipated results of its Cybertruck crash test this week, giving the car a five-star overall safety rating.', 'score': 0.88420963, 'raw_content': None}], 'response_time': 1.24}), AIMessage(content='', additional_kwargs={'tool_calls': [{'id': 'call_g2sv', 'function': {'arguments': '{\"query\": \"Cybertruck seguridad\"}', 'name': 'tavily_search_results_json'}, 'type': 'function'}]}, response_metadata={'token_usage': {'completion_tokens': 21, 'prompt_tokens': 507, 'total_tokens': 528, 'completion_time': 0.076363636, 'prompt_time': 0.033099881, 'queue_time': 0.199506892, 'total_time': 0.109463517}, 'model_name': 'llama-3.3-70b-versatile', 'system_fingerprint': 'fp_6507bcfb6f', 'finish_reason': 'tool_calls', 'logprobs': None}, id='run-97d26a2b-7d5e-4f0c-8b0d-89256dfc2eb1-0', tool_calls=[{'name': 'tavily_search_results_json', 'args': {'query': 'Cybertruck seguridad'}, 'id': 'call_g2sv', 'type': 'tool_call'}], usage_metadata={'input_tokens': 507, 'output_tokens': 21, 'total_tokens': 528}), ToolMessage(content='[{\"title\": \"Cybertruck de Tesla obtiene cinco estrellas en pruebas de seguridad\", \"url\": \"https://www.infobae.com/tecno/2025/02/20/cybertruck-de-tesla-obtiene-cinco-estrellas-en-pruebas-de-seguridad-hay-un-detalle-en-la-proteccion-de-pasajeros/\", \"content\": \"En la simulación de una colisión frontal, Cybertruck se estrelló contra una barrera rígida plana a 56.33 km/h. Como resultado, la Nhtsa otorgó al vehículo una calificación de cinco estrellas para la seguridad del conductor, pero una calificación de cuatro estrellas para la protección de los pasajeros. [...] 2 Abr, 2025\\\\n\\\\nCybertruck de Tesla obtiene cinco estrellas en pruebas de seguridad: hay un detalle en la protección de pasajeros\\\\n\\\\nUna agencia del Gobierno de Estados Unidos realiza estas evaluaciones para que los usuarios cuenten con información sobre cómo cada vehículo se comporta en situaciones reales de colisiones\\\\n\\\\nPor  Isabela Durán San Juan [...] La camioneta Cybertruck de Tesla ha recibido una calificación de cinco estrellas en las pruebas de colisión realizadas por la Administración Nacional de Seguridad del Tráfico en las Carreteras (Nhtsa) de Estados Unidos. Estas pruebas abarcan varias categorías, incluyendo colisiones frontales y laterales, así como el riesgo de vuelco.\", \"score\": 0.8588255}, {\"title\": \"Calificación de Seguridad de 5 Estrellas | Cybertruck : r/teslamotors\", \"url\": \"https://www.reddit.com/r/teslamotors/comments/1itk8a1/5star_safety_rating_cybertruck/?tl=es-es\", \"content\": \"La Cybertruck solo obtuvo 4 estrellas para el pasajero en el resultado de la prueba de choque frontal. El pasajero ni siquiera necesita\", \"score\": 0.81630427}]', name='tavily_search_results_json', id='80011680-5767-45b7-b8a9-33a2fe45efdf', tool_call_id='call_g2sv', artifact={'query': 'Cybertruck seguridad', 'follow_up_questions': None, 'answer': None, 'images': [], 'results': [{'url': 'https://www.infobae.com/tecno/2025/02/20/cybertruck-de-tesla-obtiene-cinco-estrellas-en-pruebas-de-seguridad-hay-un-detalle-en-la-proteccion-de-pasajeros/', 'title': 'Cybertruck de Tesla obtiene cinco estrellas en pruebas de seguridad', 'content': 'En la simulación de una colisión frontal, Cybertruck se estrelló contra una barrera rígida plana a 56.33 km/h. Como resultado, la Nhtsa otorgó al vehículo una calificación de cinco estrellas para la seguridad del conductor, pero una calificación de cuatro estrellas para la protección de los pasajeros. [...] 2 Abr, 2025\\n\\nCybertruck de Tesla obtiene cinco estrellas en pruebas de seguridad: hay un detalle en la protección de pasajeros\\n\\nUna agencia del Gobierno de Estados Unidos realiza estas evaluaciones para que los usuarios cuenten con información sobre cómo cada vehículo se comporta en situaciones reales de colisiones\\n\\nPor  Isabela Durán San Juan [...] La camioneta Cybertruck de Tesla ha recibido una calificación de cinco estrellas en las pruebas de colisión realizadas por la Administración Nacional de Seguridad del Tráfico en las Carreteras (Nhtsa) de Estados Unidos. Estas pruebas abarcan varias categorías, incluyendo colisiones frontales y laterales, así como el riesgo de vuelco.', 'score': 0.8588255, 'raw_content': None}, {'url': 'https://www.reddit.com/r/teslamotors/comments/1itk8a1/5star_safety_rating_cybertruck/?tl=es-es', 'title': 'Calificación de Seguridad de 5 Estrellas | Cybertruck : r/teslamotors', 'content': 'La Cybertruck solo obtuvo 4 estrellas para el pasajero en el resultado de la prueba de choque frontal. El pasajero ni siquiera necesita', 'score': 0.81630427, 'raw_content': None}], 'response_time': 3.61}), AIMessage(content='El Tesla Cybertruck ha obtenido una calificación de seguridad de 5 estrellas en las pruebas de colisión realizadas por la Administración Nacional de Seguridad del Tráfico en las Carreteras (NHTSA) de Estados Unidos. Sin embargo, es importante destacar que en la prueba de choque frontal, el vehículo obtuvo 4 estrellas para la protección del pasajero, lo que sugiere que hay un detalle en la protección de los pasajeros que debe ser considerado. En general, el Cybertruck ha demostrado ser un vehículo seguro, pero es importante tener en cuenta esta información para tomar decisiones informadas.', additional_kwargs={}, response_metadata={'token_usage': {'completion_tokens': 141, 'prompt_tokens': 997, 'total_tokens': 1138, 'completion_time': 0.512727273, 'prompt_time': 0.072311928, 'queue_time': 0.20783194200000002, 'total_time': 0.585039201}, 'model_name': 'llama-3.3-70b-versatile', 'system_fingerprint': 'fp_72a5dc99ee', 'finish_reason': 'stop', 'logprobs': None}, id='run-65178a18-dd32-4216-bebb-3a088510b0d6-0', usage_metadata={'input_tokens': 997, 'output_tokens': 141, 'total_tokens': 1138}), HumanMessage(content='Me puedes decir como me llamo?', additional_kwargs={}, response_metadata={}, id='cbc9653d-7c24-4a5e-bedf-5b90b5de4c44'), AIMessage(content='Te llamas Carlos. Me lo mencionaste al principio de nuestra conversación.', additional_kwargs={}, response_metadata={'token_usage': {'completion_tokens': 18, 'prompt_tokens': 1155, 'total_tokens': 1173, 'completion_time': 0.087846892, 'prompt_time': 0.089926961, 'queue_time': 0.201441053, 'total_time': 0.177773853}, 'model_name': 'llama-3.3-70b-versatile', 'system_fingerprint': 'fp_6507bcfb6f', 'finish_reason': 'stop', 'logprobs': None}, id='run-dc4c8b50-9036-47df-9065-9416ad134a53-0', usage_metadata={'input_tokens': 1155, 'output_tokens': 18, 'total_tokens': 1173})]}\n",
      "==================================\u001b[1m Ai Message \u001b[0m==================================\n",
      "\n",
      "Te llamas Carlos. Me lo mencionaste al principio de nuestra conversación.\n",
      "----\n"
     ]
    }
   ],
   "source": [
    "for chunk in agent_executor.stream(\n",
    "    {\"messages\": [HumanMessage(content=\"Me puedes decir como me llamo?\")]}, \n",
    "    config,\n",
    "    stream_mode=\"values\",\n",
    "):\n",
    "    print(chunk)\n",
    "    chunk[\"messages\"][-1].pretty_print()\n",
    "    print(\"----\")"
   ]
  },
  {
   "cell_type": "code",
   "execution_count": null,
   "id": "6d745663-def5-4c2f-bbf2-b7614ac2459d",
   "metadata": {},
   "outputs": [],
   "source": []
  }
 ],
 "metadata": {
  "kernelspec": {
   "display_name": "sellerAgent-pAx5wUas",
   "language": "python",
   "name": "python3"
  },
  "language_info": {
   "codemirror_mode": {
    "name": "ipython",
    "version": 3
   },
   "file_extension": ".py",
   "mimetype": "text/x-python",
   "name": "python",
   "nbconvert_exporter": "python",
   "pygments_lexer": "ipython3",
   "version": "3.13.2"
  }
 },
 "nbformat": 4,
 "nbformat_minor": 5
}
