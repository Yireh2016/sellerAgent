{
 "cells": [
  {
   "cell_type": "code",
   "execution_count": 1,
   "id": "23e218e0-f775-4a45-998f-fc7a79bbbf49",
   "metadata": {},
   "outputs": [],
   "source": [
    "import getpass\n",
    "import os\n",
    "from dotenv import load_dotenv\n",
    "load_dotenv()\n",
    "\n",
    "os.environ[\"LANGSMITH_TRACING\"] = \"true\""
   ]
  },
  {
   "cell_type": "code",
   "execution_count": 2,
   "id": "97281409-0f8e-4e7c-96b9-f24c6452003a",
   "metadata": {
    "scrolled": true
   },
   "outputs": [
    {
     "name": "stdout",
     "output_type": "stream",
     "text": [
      "[{'url': 'https://www.weatherapi.com/', 'content': \"{'location': {'name': 'Caracas', 'region': 'Distrito Federal', 'country': 'Venezuela', 'lat': 10.5, 'lon': -66.9167, 'tz_id': 'America/Caracas', 'localtime_epoch': 1741062415, 'localtime': '2025-03-04 00:26'}, 'current': {'last_updated_epoch': 1741061700, 'last_updated': '2025-03-04 00:15', 'temp_c': 25.1, 'temp_f': 77.2, 'is_day': 0, 'condition': {'text': 'Clear', 'icon': '//cdn.weatherapi.com/weather/64x64/night/113.png', 'code': 1000}, 'wind_mph': 2.2, 'wind_kph': 3.6, 'wind_degree': 156, 'wind_dir': 'SSE', 'pressure_mb': 1014.0, 'pressure_in': 29.94, 'precip_mm': 0.0, 'precip_in': 0.0, 'humidity': 74, 'cloud': 0, 'feelslike_c': 27.5, 'feelslike_f': 81.5, 'windchill_c': 17.5, 'windchill_f': 63.5, 'heatindex_c': 17.5, 'heatindex_f': 63.5, 'dewpoint_c': 14.8, 'dewpoint_f': 58.7, 'vis_km': 10.0, 'vis_miles': 6.0, 'uv': 0.0, 'gust_mph': 6.7, 'gust_kph': 10.8}}\"}, {'url': 'https://weather.com/weather/hourbyhour/l/Caracas+Capital+District+Venezuela?canonicalCityId=d3df9e63d0a266913d942d0a8268f809a79f4f269bb973443927d9d3e5670c70', 'content': 'Hourly Weather-Caracas, Capital District, Venezuela · 1 am. 65°. 8%. Partly Cloudy. Feels Like66° · 2 am. 65°. 8%. Mostly Cloudy. Feels Like65° · 3 am. 64°. 8%.'}]\n"
     ]
    }
   ],
   "source": [
    "from langchain_community.tools.tavily_search import TavilySearchResults\n",
    "\n",
    "search = TavilySearchResults(max_results=2)\n",
    "search_results = search.invoke(\"What is the weather in Caracas, Venezuela\")\n",
    "print(search_results)\n",
    "tools = [search]"
   ]
  },
  {
   "cell_type": "code",
   "execution_count": 3,
   "id": "020cefd5-cc26-4872-b024-8bafc381d99b",
   "metadata": {},
   "outputs": [],
   "source": [
    "from langchain.chat_models import init_chat_model\n",
    "\n",
    "model = init_chat_model(\"llama-3.3-70b-versatile\", model_provider=\"groq\")\n"
   ]
  },
  {
   "cell_type": "code",
   "execution_count": 4,
   "id": "ab82a0e7-e6ae-4bde-8cfc-184dfb224d6b",
   "metadata": {},
   "outputs": [
    {
     "name": "stdout",
     "output_type": "stream",
     "text": [
      "Canada's weather is diverse and varies greatly depending on the region and season. The country's vast size and geography, which includes mountains, forests, and coastlines, contribute to its complex climate. Here's a general overview of Canada's weather patterns:\n",
      "\n",
      "**Seasons:**\n",
      "\n",
      "1. **Winter (December to February):** Cold and snowy, with average temperatures ranging from -2°C to -15°C (28°F to 5°F) in the south and -20°C to -30°C (-4°F to -22°F) in the north.\n",
      "2. **Spring (March to May):** Mild and unpredictable, with temperatures gradually warming up from -5°C to 15°C (23°F to 59°F).\n",
      "3. **Summer (June to August):** Warm and humid, with average temperatures ranging from 15°C to 25°C (59°F to 77°F) in the south and 10°C to 20°C (50°F to 68°F) in the north.\n",
      "4. **Autumn (September to November):** Cool and colorful, with temperatures gradually cooling down from 10°C to 20°C (50°F to 68°F).\n",
      "\n",
      "**Regional Weather Patterns:**\n",
      "\n",
      "1. **Pacific Coast (British Columbia):** Mild and wet, with significant rainfall throughout the year.\n",
      "2. **Prairies (Alberta, Saskatchewan, Manitoba):** Cold winters and warm summers, with low humidity and moderate precipitation.\n",
      "3. **Ontario and Quebec:** Continental climate with cold winters and warm summers, with significant precipitation and humidity.\n",
      "4. **Atlantic Coast (Nova Scotia, New Brunswick, Prince Edward Island, Newfoundland and Labrador):** Cool and wet, with significant precipitation and fog.\n",
      "5. **Northern Canada (Yukon, Northwest Territories, Nunavut):** Extremely cold and dry, with long, dark winters and short, cool summers.\n",
      "\n",
      "**Extreme Weather Events:**\n",
      "\n",
      "1. **Blizzards:** Common in the eastern and central regions, especially during winter.\n",
      "2. **Tornadoes:** Occasional in the Prairies and Ontario.\n",
      "3. **Heatwaves:** Can occur in the summer, especially in the southern regions.\n",
      "4. **Forest fires:** Common in the western regions, especially during dry summers.\n",
      "\n",
      "Keep in mind that these are general patterns, and local conditions can vary significantly. It's essential to check local weather forecasts for the most up-to-date and accurate information.\n"
     ]
    }
   ],
   "source": [
    "from langchain_core.messages import HumanMessage\n",
    "\n",
    "response = model.invoke([HumanMessage(content=\"How is the weather usually in Canada?\")])\n",
    "print(response.content)"
   ]
  },
  {
   "cell_type": "code",
   "execution_count": 5,
   "id": "233be2b7-7cd2-4684-b44c-a4ffee053361",
   "metadata": {},
   "outputs": [],
   "source": [
    "model_with_tools = model.bind_tools(tools)"
   ]
  },
  {
   "cell_type": "code",
   "execution_count": 6,
   "id": "bd661862-2881-4df1-860a-3fc61b65161b",
   "metadata": {},
   "outputs": [
    {
     "name": "stdout",
     "output_type": "stream",
     "text": [
      "ContentString: \n",
      "ToolCalls: [{'name': 'tavily_search_results_json', 'args': {'query': 'San Francisco weather today'}, 'id': 'call_hgkh', 'type': 'tool_call'}]\n"
     ]
    }
   ],
   "source": [
    "response2 = model_with_tools.invoke([HumanMessage(content=\"What's the weather in SF?\")])\n",
    "\n",
    "print(f\"ContentString: {response2.content}\")\n",
    "print(f\"ToolCalls: {response2.tool_calls}\")"
   ]
  },
  {
   "cell_type": "code",
   "execution_count": 7,
   "id": "fc628813-8fb7-423b-a86c-1592f75128e4",
   "metadata": {},
   "outputs": [],
   "source": [
    "from langgraph.checkpoint.memory import MemorySaver\n",
    "\n",
    "memory = MemorySaver()"
   ]
  },
  {
   "cell_type": "code",
   "execution_count": 8,
   "id": "4a1ad29a-020d-4a67-961f-9600d5f63400",
   "metadata": {},
   "outputs": [],
   "source": [
    "from langgraph.prebuilt import create_react_agent\n",
    "\n",
    "agent_executor = create_react_agent(model, tools, checkpointer=memory)\n",
    "config = {\"configurable\" : { \"thread_id\" : \"abc123\"}}"
   ]
  },
  {
   "cell_type": "code",
   "execution_count": 9,
   "id": "5824c041-5526-43e3-9152-4cc4f918cec6",
   "metadata": {},
   "outputs": [
    {
     "name": "stdout",
     "output_type": "stream",
     "text": [
      "{'messages': [HumanMessage(content='hola. Me llamo Carlos, Me pudieras decir que tan seguro es un tesla cybertruck?', additional_kwargs={}, response_metadata={}, id='b48822e1-9972-4b7e-b901-477161cb1aeb')]}\n",
      "================================\u001b[1m Human Message \u001b[0m=================================\n",
      "\n",
      "hola. Me llamo Carlos, Me pudieras decir que tan seguro es un tesla cybertruck?\n",
      "----\n",
      "{'messages': [HumanMessage(content='hola. Me llamo Carlos, Me pudieras decir que tan seguro es un tesla cybertruck?', additional_kwargs={}, response_metadata={}, id='b48822e1-9972-4b7e-b901-477161cb1aeb'), AIMessage(content='', additional_kwargs={'tool_calls': [{'id': 'call_en4w', 'function': {'arguments': '{\"query\": \"Tesla Cybertruck safety features\"}', 'name': 'tavily_search_results_json'}, 'type': 'function'}]}, response_metadata={'token_usage': {'completion_tokens': 22, 'prompt_tokens': 301, 'total_tokens': 323, 'completion_time': 0.08, 'prompt_time': 0.013894832, 'queue_time': 0.198525518, 'total_time': 0.093894832}, 'model_name': 'llama-3.3-70b-versatile', 'system_fingerprint': 'fp_2ca0059abb', 'finish_reason': 'tool_calls', 'logprobs': None}, id='run-6c796e92-1499-489b-b1c2-996f5cc5661c-0', tool_calls=[{'name': 'tavily_search_results_json', 'args': {'query': 'Tesla Cybertruck safety features'}, 'id': 'call_en4w', 'type': 'tool_call'}], usage_metadata={'input_tokens': 301, 'output_tokens': 22, 'total_tokens': 323})]}\n",
      "==================================\u001b[1m Ai Message \u001b[0m==================================\n",
      "Tool Calls:\n",
      "  tavily_search_results_json (call_en4w)\n",
      " Call ID: call_en4w\n",
      "  Args:\n",
      "    query: Tesla Cybertruck safety features\n",
      "----\n",
      "{'messages': [HumanMessage(content='hola. Me llamo Carlos, Me pudieras decir que tan seguro es un tesla cybertruck?', additional_kwargs={}, response_metadata={}, id='b48822e1-9972-4b7e-b901-477161cb1aeb'), AIMessage(content='', additional_kwargs={'tool_calls': [{'id': 'call_en4w', 'function': {'arguments': '{\"query\": \"Tesla Cybertruck safety features\"}', 'name': 'tavily_search_results_json'}, 'type': 'function'}]}, response_metadata={'token_usage': {'completion_tokens': 22, 'prompt_tokens': 301, 'total_tokens': 323, 'completion_time': 0.08, 'prompt_time': 0.013894832, 'queue_time': 0.198525518, 'total_time': 0.093894832}, 'model_name': 'llama-3.3-70b-versatile', 'system_fingerprint': 'fp_2ca0059abb', 'finish_reason': 'tool_calls', 'logprobs': None}, id='run-6c796e92-1499-489b-b1c2-996f5cc5661c-0', tool_calls=[{'name': 'tavily_search_results_json', 'args': {'query': 'Tesla Cybertruck safety features'}, 'id': 'call_en4w', 'type': 'tool_call'}], usage_metadata={'input_tokens': 301, 'output_tokens': 22, 'total_tokens': 323}), ToolMessage(content='[{\"url\": \"https://www.youtube.com/watch?v=GturqvjdFwU\", \"content\": \"cybertruck #safety #features #thatmake #nearly #invincible The Tesla Cybertruck is built with an ultra-hard stainless steel exoskeleton,\"}, {\"url\": \"https://www.repairerdrivennews.com/2023/12/12/safety-professionals-weigh-in-on-teslas-cybertruck/\", \"content\": \"Brooks said he also continues to have “significant concerns” about the safety of Tesla\\'s full self-driving and pedestrian detection features, as\"}]', name='tavily_search_results_json', id='0730efc4-b532-462c-b9c0-d2ed4290f088', tool_call_id='call_en4w', artifact={'query': 'Tesla Cybertruck safety features', 'follow_up_questions': None, 'answer': None, 'images': [], 'results': [{'url': 'https://www.youtube.com/watch?v=GturqvjdFwU', 'title': 'Cybertruck Safety Features That Make It Nearly Invincible! - YouTube', 'content': 'cybertruck #safety #features #thatmake #nearly #invincible The Tesla Cybertruck is built with an ultra-hard stainless steel exoskeleton,', 'score': 0.8820324, 'raw_content': None}, {'url': 'https://www.repairerdrivennews.com/2023/12/12/safety-professionals-weigh-in-on-teslas-cybertruck/', 'title': \"Safety professionals weigh in on Tesla's Cybertruck\", 'content': \"Brooks said he also continues to have “significant concerns” about the safety of Tesla's full self-driving and pedestrian detection features, as\", 'score': 0.8657814, 'raw_content': None}], 'response_time': 1.39})]}\n",
      "=================================\u001b[1m Tool Message \u001b[0m=================================\n",
      "Name: tavily_search_results_json\n",
      "\n",
      "[{\"url\": \"https://www.youtube.com/watch?v=GturqvjdFwU\", \"content\": \"cybertruck #safety #features #thatmake #nearly #invincible The Tesla Cybertruck is built with an ultra-hard stainless steel exoskeleton,\"}, {\"url\": \"https://www.repairerdrivennews.com/2023/12/12/safety-professionals-weigh-in-on-teslas-cybertruck/\", \"content\": \"Brooks said he also continues to have “significant concerns” about the safety of Tesla's full self-driving and pedestrian detection features, as\"}]\n",
      "----\n",
      "{'messages': [HumanMessage(content='hola. Me llamo Carlos, Me pudieras decir que tan seguro es un tesla cybertruck?', additional_kwargs={}, response_metadata={}, id='b48822e1-9972-4b7e-b901-477161cb1aeb'), AIMessage(content='', additional_kwargs={'tool_calls': [{'id': 'call_en4w', 'function': {'arguments': '{\"query\": \"Tesla Cybertruck safety features\"}', 'name': 'tavily_search_results_json'}, 'type': 'function'}]}, response_metadata={'token_usage': {'completion_tokens': 22, 'prompt_tokens': 301, 'total_tokens': 323, 'completion_time': 0.08, 'prompt_time': 0.013894832, 'queue_time': 0.198525518, 'total_time': 0.093894832}, 'model_name': 'llama-3.3-70b-versatile', 'system_fingerprint': 'fp_2ca0059abb', 'finish_reason': 'tool_calls', 'logprobs': None}, id='run-6c796e92-1499-489b-b1c2-996f5cc5661c-0', tool_calls=[{'name': 'tavily_search_results_json', 'args': {'query': 'Tesla Cybertruck safety features'}, 'id': 'call_en4w', 'type': 'tool_call'}], usage_metadata={'input_tokens': 301, 'output_tokens': 22, 'total_tokens': 323}), ToolMessage(content='[{\"url\": \"https://www.youtube.com/watch?v=GturqvjdFwU\", \"content\": \"cybertruck #safety #features #thatmake #nearly #invincible The Tesla Cybertruck is built with an ultra-hard stainless steel exoskeleton,\"}, {\"url\": \"https://www.repairerdrivennews.com/2023/12/12/safety-professionals-weigh-in-on-teslas-cybertruck/\", \"content\": \"Brooks said he also continues to have “significant concerns” about the safety of Tesla\\'s full self-driving and pedestrian detection features, as\"}]', name='tavily_search_results_json', id='0730efc4-b532-462c-b9c0-d2ed4290f088', tool_call_id='call_en4w', artifact={'query': 'Tesla Cybertruck safety features', 'follow_up_questions': None, 'answer': None, 'images': [], 'results': [{'url': 'https://www.youtube.com/watch?v=GturqvjdFwU', 'title': 'Cybertruck Safety Features That Make It Nearly Invincible! - YouTube', 'content': 'cybertruck #safety #features #thatmake #nearly #invincible The Tesla Cybertruck is built with an ultra-hard stainless steel exoskeleton,', 'score': 0.8820324, 'raw_content': None}, {'url': 'https://www.repairerdrivennews.com/2023/12/12/safety-professionals-weigh-in-on-teslas-cybertruck/', 'title': \"Safety professionals weigh in on Tesla's Cybertruck\", 'content': \"Brooks said he also continues to have “significant concerns” about the safety of Tesla's full self-driving and pedestrian detection features, as\", 'score': 0.8657814, 'raw_content': None}], 'response_time': 1.39}), AIMessage(content='', additional_kwargs={'tool_calls': [{'id': 'call_432y', 'function': {'arguments': '{\"query\": \"Tesla Cybertruck crash test\"}', 'name': 'tavily_search_results_json'}, 'type': 'function'}]}, response_metadata={'token_usage': {'completion_tokens': 22, 'prompt_tokens': 462, 'total_tokens': 484, 'completion_time': 0.08, 'prompt_time': 0.021477636, 'queue_time': 0.31959817999999995, 'total_time': 0.101477636}, 'model_name': 'llama-3.3-70b-versatile', 'system_fingerprint': 'fp_7b42aeb9fa', 'finish_reason': 'tool_calls', 'logprobs': None}, id='run-0903ab81-c5eb-497f-bd5c-23e4aa8ebc31-0', tool_calls=[{'name': 'tavily_search_results_json', 'args': {'query': 'Tesla Cybertruck crash test'}, 'id': 'call_432y', 'type': 'tool_call'}], usage_metadata={'input_tokens': 462, 'output_tokens': 22, 'total_tokens': 484})]}\n",
      "==================================\u001b[1m Ai Message \u001b[0m==================================\n",
      "Tool Calls:\n",
      "  tavily_search_results_json (call_432y)\n",
      " Call ID: call_432y\n",
      "  Args:\n",
      "    query: Tesla Cybertruck crash test\n",
      "----\n",
      "{'messages': [HumanMessage(content='hola. Me llamo Carlos, Me pudieras decir que tan seguro es un tesla cybertruck?', additional_kwargs={}, response_metadata={}, id='b48822e1-9972-4b7e-b901-477161cb1aeb'), AIMessage(content='', additional_kwargs={'tool_calls': [{'id': 'call_en4w', 'function': {'arguments': '{\"query\": \"Tesla Cybertruck safety features\"}', 'name': 'tavily_search_results_json'}, 'type': 'function'}]}, response_metadata={'token_usage': {'completion_tokens': 22, 'prompt_tokens': 301, 'total_tokens': 323, 'completion_time': 0.08, 'prompt_time': 0.013894832, 'queue_time': 0.198525518, 'total_time': 0.093894832}, 'model_name': 'llama-3.3-70b-versatile', 'system_fingerprint': 'fp_2ca0059abb', 'finish_reason': 'tool_calls', 'logprobs': None}, id='run-6c796e92-1499-489b-b1c2-996f5cc5661c-0', tool_calls=[{'name': 'tavily_search_results_json', 'args': {'query': 'Tesla Cybertruck safety features'}, 'id': 'call_en4w', 'type': 'tool_call'}], usage_metadata={'input_tokens': 301, 'output_tokens': 22, 'total_tokens': 323}), ToolMessage(content='[{\"url\": \"https://www.youtube.com/watch?v=GturqvjdFwU\", \"content\": \"cybertruck #safety #features #thatmake #nearly #invincible The Tesla Cybertruck is built with an ultra-hard stainless steel exoskeleton,\"}, {\"url\": \"https://www.repairerdrivennews.com/2023/12/12/safety-professionals-weigh-in-on-teslas-cybertruck/\", \"content\": \"Brooks said he also continues to have “significant concerns” about the safety of Tesla\\'s full self-driving and pedestrian detection features, as\"}]', name='tavily_search_results_json', id='0730efc4-b532-462c-b9c0-d2ed4290f088', tool_call_id='call_en4w', artifact={'query': 'Tesla Cybertruck safety features', 'follow_up_questions': None, 'answer': None, 'images': [], 'results': [{'url': 'https://www.youtube.com/watch?v=GturqvjdFwU', 'title': 'Cybertruck Safety Features That Make It Nearly Invincible! - YouTube', 'content': 'cybertruck #safety #features #thatmake #nearly #invincible The Tesla Cybertruck is built with an ultra-hard stainless steel exoskeleton,', 'score': 0.8820324, 'raw_content': None}, {'url': 'https://www.repairerdrivennews.com/2023/12/12/safety-professionals-weigh-in-on-teslas-cybertruck/', 'title': \"Safety professionals weigh in on Tesla's Cybertruck\", 'content': \"Brooks said he also continues to have “significant concerns” about the safety of Tesla's full self-driving and pedestrian detection features, as\", 'score': 0.8657814, 'raw_content': None}], 'response_time': 1.39}), AIMessage(content='', additional_kwargs={'tool_calls': [{'id': 'call_432y', 'function': {'arguments': '{\"query\": \"Tesla Cybertruck crash test\"}', 'name': 'tavily_search_results_json'}, 'type': 'function'}]}, response_metadata={'token_usage': {'completion_tokens': 22, 'prompt_tokens': 462, 'total_tokens': 484, 'completion_time': 0.08, 'prompt_time': 0.021477636, 'queue_time': 0.31959817999999995, 'total_time': 0.101477636}, 'model_name': 'llama-3.3-70b-versatile', 'system_fingerprint': 'fp_7b42aeb9fa', 'finish_reason': 'tool_calls', 'logprobs': None}, id='run-0903ab81-c5eb-497f-bd5c-23e4aa8ebc31-0', tool_calls=[{'name': 'tavily_search_results_json', 'args': {'query': 'Tesla Cybertruck crash test'}, 'id': 'call_432y', 'type': 'tool_call'}], usage_metadata={'input_tokens': 462, 'output_tokens': 22, 'total_tokens': 484}), ToolMessage(content='[{\"url\": \"https://www.youtube.com/watch?v=vvxcvuYUM20\", \"content\": \"The official crash test results for the Tesla Cybertruck, straight from the NHTSA. This script sticks to the NHTSA\\'s reported results – five\"}, {\"url\": \"https://www.jalopnik.com/1796315/nhtsa-tesla-cybertruck-test-results-pedestrian-safety/\", \"content\": \"The Tesla Cybertruck picked up a five-star rating overall and scored five stars in almost every test.\"}]', name='tavily_search_results_json', id='b0377e37-2113-45fe-9081-ab7f127cdedb', tool_call_id='call_432y', artifact={'query': 'Tesla Cybertruck crash test', 'follow_up_questions': None, 'answer': None, 'images': [], 'results': [{'url': 'https://www.youtube.com/watch?v=vvxcvuYUM20', 'title': 'The official crash test results for the Tesla Cybertruck, straight from ...', 'content': \"The official crash test results for the Tesla Cybertruck, straight from the NHTSA. This script sticks to the NHTSA's reported results – five\", 'score': 0.8091708, 'raw_content': None}, {'url': 'https://www.jalopnik.com/1796315/nhtsa-tesla-cybertruck-test-results-pedestrian-safety/', 'title': \"NHTSA Finally Releases Cybertruck Crash Test, Just Don't Ask ...\", 'content': 'The Tesla Cybertruck picked up a five-star rating overall and scored five stars in almost every test.', 'score': 0.7892503, 'raw_content': None}], 'response_time': 1.29})]}\n",
      "=================================\u001b[1m Tool Message \u001b[0m=================================\n",
      "Name: tavily_search_results_json\n",
      "\n",
      "[{\"url\": \"https://www.youtube.com/watch?v=vvxcvuYUM20\", \"content\": \"The official crash test results for the Tesla Cybertruck, straight from the NHTSA. This script sticks to the NHTSA's reported results – five\"}, {\"url\": \"https://www.jalopnik.com/1796315/nhtsa-tesla-cybertruck-test-results-pedestrian-safety/\", \"content\": \"The Tesla Cybertruck picked up a five-star rating overall and scored five stars in almost every test.\"}]\n",
      "----\n",
      "{'messages': [HumanMessage(content='hola. Me llamo Carlos, Me pudieras decir que tan seguro es un tesla cybertruck?', additional_kwargs={}, response_metadata={}, id='b48822e1-9972-4b7e-b901-477161cb1aeb'), AIMessage(content='', additional_kwargs={'tool_calls': [{'id': 'call_en4w', 'function': {'arguments': '{\"query\": \"Tesla Cybertruck safety features\"}', 'name': 'tavily_search_results_json'}, 'type': 'function'}]}, response_metadata={'token_usage': {'completion_tokens': 22, 'prompt_tokens': 301, 'total_tokens': 323, 'completion_time': 0.08, 'prompt_time': 0.013894832, 'queue_time': 0.198525518, 'total_time': 0.093894832}, 'model_name': 'llama-3.3-70b-versatile', 'system_fingerprint': 'fp_2ca0059abb', 'finish_reason': 'tool_calls', 'logprobs': None}, id='run-6c796e92-1499-489b-b1c2-996f5cc5661c-0', tool_calls=[{'name': 'tavily_search_results_json', 'args': {'query': 'Tesla Cybertruck safety features'}, 'id': 'call_en4w', 'type': 'tool_call'}], usage_metadata={'input_tokens': 301, 'output_tokens': 22, 'total_tokens': 323}), ToolMessage(content='[{\"url\": \"https://www.youtube.com/watch?v=GturqvjdFwU\", \"content\": \"cybertruck #safety #features #thatmake #nearly #invincible The Tesla Cybertruck is built with an ultra-hard stainless steel exoskeleton,\"}, {\"url\": \"https://www.repairerdrivennews.com/2023/12/12/safety-professionals-weigh-in-on-teslas-cybertruck/\", \"content\": \"Brooks said he also continues to have “significant concerns” about the safety of Tesla\\'s full self-driving and pedestrian detection features, as\"}]', name='tavily_search_results_json', id='0730efc4-b532-462c-b9c0-d2ed4290f088', tool_call_id='call_en4w', artifact={'query': 'Tesla Cybertruck safety features', 'follow_up_questions': None, 'answer': None, 'images': [], 'results': [{'url': 'https://www.youtube.com/watch?v=GturqvjdFwU', 'title': 'Cybertruck Safety Features That Make It Nearly Invincible! - YouTube', 'content': 'cybertruck #safety #features #thatmake #nearly #invincible The Tesla Cybertruck is built with an ultra-hard stainless steel exoskeleton,', 'score': 0.8820324, 'raw_content': None}, {'url': 'https://www.repairerdrivennews.com/2023/12/12/safety-professionals-weigh-in-on-teslas-cybertruck/', 'title': \"Safety professionals weigh in on Tesla's Cybertruck\", 'content': \"Brooks said he also continues to have “significant concerns” about the safety of Tesla's full self-driving and pedestrian detection features, as\", 'score': 0.8657814, 'raw_content': None}], 'response_time': 1.39}), AIMessage(content='', additional_kwargs={'tool_calls': [{'id': 'call_432y', 'function': {'arguments': '{\"query\": \"Tesla Cybertruck crash test\"}', 'name': 'tavily_search_results_json'}, 'type': 'function'}]}, response_metadata={'token_usage': {'completion_tokens': 22, 'prompt_tokens': 462, 'total_tokens': 484, 'completion_time': 0.08, 'prompt_time': 0.021477636, 'queue_time': 0.31959817999999995, 'total_time': 0.101477636}, 'model_name': 'llama-3.3-70b-versatile', 'system_fingerprint': 'fp_7b42aeb9fa', 'finish_reason': 'tool_calls', 'logprobs': None}, id='run-0903ab81-c5eb-497f-bd5c-23e4aa8ebc31-0', tool_calls=[{'name': 'tavily_search_results_json', 'args': {'query': 'Tesla Cybertruck crash test'}, 'id': 'call_432y', 'type': 'tool_call'}], usage_metadata={'input_tokens': 462, 'output_tokens': 22, 'total_tokens': 484}), ToolMessage(content='[{\"url\": \"https://www.youtube.com/watch?v=vvxcvuYUM20\", \"content\": \"The official crash test results for the Tesla Cybertruck, straight from the NHTSA. This script sticks to the NHTSA\\'s reported results – five\"}, {\"url\": \"https://www.jalopnik.com/1796315/nhtsa-tesla-cybertruck-test-results-pedestrian-safety/\", \"content\": \"The Tesla Cybertruck picked up a five-star rating overall and scored five stars in almost every test.\"}]', name='tavily_search_results_json', id='b0377e37-2113-45fe-9081-ab7f127cdedb', tool_call_id='call_432y', artifact={'query': 'Tesla Cybertruck crash test', 'follow_up_questions': None, 'answer': None, 'images': [], 'results': [{'url': 'https://www.youtube.com/watch?v=vvxcvuYUM20', 'title': 'The official crash test results for the Tesla Cybertruck, straight from ...', 'content': \"The official crash test results for the Tesla Cybertruck, straight from the NHTSA. This script sticks to the NHTSA's reported results – five\", 'score': 0.8091708, 'raw_content': None}, {'url': 'https://www.jalopnik.com/1796315/nhtsa-tesla-cybertruck-test-results-pedestrian-safety/', 'title': \"NHTSA Finally Releases Cybertruck Crash Test, Just Don't Ask ...\", 'content': 'The Tesla Cybertruck picked up a five-star rating overall and scored five stars in almost every test.', 'score': 0.7892503, 'raw_content': None}], 'response_time': 1.29}), AIMessage(content='El Tesla Cybertruck tiene un chasis de acero inoxidable muy resistente y ha obtenido una calificación de 5 estrellas en las pruebas de choque de la NHTSA. Sin embargo, algunos expertos en seguridad siguen teniendo preocupaciones sobre la seguridad de las funciones de conducción autónoma y detección de peatones de Tesla. Es importante tener en cuenta que la seguridad de un vehículo depende de muchos factores, incluyendo el diseño, la construcción y el mantenimiento del vehículo, así como el comportamiento del conductor.', additional_kwargs={}, response_metadata={'token_usage': {'completion_tokens': 124, 'prompt_tokens': 610, 'total_tokens': 734, 'completion_time': 0.450909091, 'prompt_time': 0.025720745, 'queue_time': 0.263864634, 'total_time': 0.476629836}, 'model_name': 'llama-3.3-70b-versatile', 'system_fingerprint': 'fp_5f849c5a0b', 'finish_reason': 'stop', 'logprobs': None}, id='run-4a7e63fc-e6f0-4293-9487-5c086c9ae8af-0', usage_metadata={'input_tokens': 610, 'output_tokens': 124, 'total_tokens': 734})]}\n",
      "==================================\u001b[1m Ai Message \u001b[0m==================================\n",
      "\n",
      "El Tesla Cybertruck tiene un chasis de acero inoxidable muy resistente y ha obtenido una calificación de 5 estrellas en las pruebas de choque de la NHTSA. Sin embargo, algunos expertos en seguridad siguen teniendo preocupaciones sobre la seguridad de las funciones de conducción autónoma y detección de peatones de Tesla. Es importante tener en cuenta que la seguridad de un vehículo depende de muchos factores, incluyendo el diseño, la construcción y el mantenimiento del vehículo, así como el comportamiento del conductor.\n",
      "----\n"
     ]
    }
   ],
   "source": [
    "for chunk in agent_executor.stream(\n",
    "    {\"messages\": [HumanMessage(content=\"hola. Me llamo Carlos, Me pudieras decir que tan seguro es un tesla cybertruck?\")]}, \n",
    "    config,\n",
    "    stream_mode=\"values\",\n",
    "):\n",
    "    print(chunk)\n",
    "    chunk[\"messages\"][-1].pretty_print()\n",
    "    print(\"----\")"
   ]
  },
  {
   "cell_type": "code",
   "execution_count": 10,
   "id": "4be0ed09",
   "metadata": {},
   "outputs": [
    {
     "name": "stdout",
     "output_type": "stream",
     "text": [
      "{'messages': [HumanMessage(content='hola. Me llamo Carlos, Me pudieras decir que tan seguro es un tesla cybertruck?', additional_kwargs={}, response_metadata={}, id='b48822e1-9972-4b7e-b901-477161cb1aeb'), AIMessage(content='', additional_kwargs={'tool_calls': [{'id': 'call_en4w', 'function': {'arguments': '{\"query\": \"Tesla Cybertruck safety features\"}', 'name': 'tavily_search_results_json'}, 'type': 'function'}]}, response_metadata={'token_usage': {'completion_tokens': 22, 'prompt_tokens': 301, 'total_tokens': 323, 'completion_time': 0.08, 'prompt_time': 0.013894832, 'queue_time': 0.198525518, 'total_time': 0.093894832}, 'model_name': 'llama-3.3-70b-versatile', 'system_fingerprint': 'fp_2ca0059abb', 'finish_reason': 'tool_calls', 'logprobs': None}, id='run-6c796e92-1499-489b-b1c2-996f5cc5661c-0', tool_calls=[{'name': 'tavily_search_results_json', 'args': {'query': 'Tesla Cybertruck safety features'}, 'id': 'call_en4w', 'type': 'tool_call'}], usage_metadata={'input_tokens': 301, 'output_tokens': 22, 'total_tokens': 323}), ToolMessage(content='[{\"url\": \"https://www.youtube.com/watch?v=GturqvjdFwU\", \"content\": \"cybertruck #safety #features #thatmake #nearly #invincible The Tesla Cybertruck is built with an ultra-hard stainless steel exoskeleton,\"}, {\"url\": \"https://www.repairerdrivennews.com/2023/12/12/safety-professionals-weigh-in-on-teslas-cybertruck/\", \"content\": \"Brooks said he also continues to have “significant concerns” about the safety of Tesla\\'s full self-driving and pedestrian detection features, as\"}]', name='tavily_search_results_json', id='0730efc4-b532-462c-b9c0-d2ed4290f088', tool_call_id='call_en4w', artifact={'query': 'Tesla Cybertruck safety features', 'follow_up_questions': None, 'answer': None, 'images': [], 'results': [{'url': 'https://www.youtube.com/watch?v=GturqvjdFwU', 'title': 'Cybertruck Safety Features That Make It Nearly Invincible! - YouTube', 'content': 'cybertruck #safety #features #thatmake #nearly #invincible The Tesla Cybertruck is built with an ultra-hard stainless steel exoskeleton,', 'score': 0.8820324, 'raw_content': None}, {'url': 'https://www.repairerdrivennews.com/2023/12/12/safety-professionals-weigh-in-on-teslas-cybertruck/', 'title': \"Safety professionals weigh in on Tesla's Cybertruck\", 'content': \"Brooks said he also continues to have “significant concerns” about the safety of Tesla's full self-driving and pedestrian detection features, as\", 'score': 0.8657814, 'raw_content': None}], 'response_time': 1.39}), AIMessage(content='', additional_kwargs={'tool_calls': [{'id': 'call_432y', 'function': {'arguments': '{\"query\": \"Tesla Cybertruck crash test\"}', 'name': 'tavily_search_results_json'}, 'type': 'function'}]}, response_metadata={'token_usage': {'completion_tokens': 22, 'prompt_tokens': 462, 'total_tokens': 484, 'completion_time': 0.08, 'prompt_time': 0.021477636, 'queue_time': 0.31959817999999995, 'total_time': 0.101477636}, 'model_name': 'llama-3.3-70b-versatile', 'system_fingerprint': 'fp_7b42aeb9fa', 'finish_reason': 'tool_calls', 'logprobs': None}, id='run-0903ab81-c5eb-497f-bd5c-23e4aa8ebc31-0', tool_calls=[{'name': 'tavily_search_results_json', 'args': {'query': 'Tesla Cybertruck crash test'}, 'id': 'call_432y', 'type': 'tool_call'}], usage_metadata={'input_tokens': 462, 'output_tokens': 22, 'total_tokens': 484}), ToolMessage(content='[{\"url\": \"https://www.youtube.com/watch?v=vvxcvuYUM20\", \"content\": \"The official crash test results for the Tesla Cybertruck, straight from the NHTSA. This script sticks to the NHTSA\\'s reported results – five\"}, {\"url\": \"https://www.jalopnik.com/1796315/nhtsa-tesla-cybertruck-test-results-pedestrian-safety/\", \"content\": \"The Tesla Cybertruck picked up a five-star rating overall and scored five stars in almost every test.\"}]', name='tavily_search_results_json', id='b0377e37-2113-45fe-9081-ab7f127cdedb', tool_call_id='call_432y', artifact={'query': 'Tesla Cybertruck crash test', 'follow_up_questions': None, 'answer': None, 'images': [], 'results': [{'url': 'https://www.youtube.com/watch?v=vvxcvuYUM20', 'title': 'The official crash test results for the Tesla Cybertruck, straight from ...', 'content': \"The official crash test results for the Tesla Cybertruck, straight from the NHTSA. This script sticks to the NHTSA's reported results – five\", 'score': 0.8091708, 'raw_content': None}, {'url': 'https://www.jalopnik.com/1796315/nhtsa-tesla-cybertruck-test-results-pedestrian-safety/', 'title': \"NHTSA Finally Releases Cybertruck Crash Test, Just Don't Ask ...\", 'content': 'The Tesla Cybertruck picked up a five-star rating overall and scored five stars in almost every test.', 'score': 0.7892503, 'raw_content': None}], 'response_time': 1.29}), AIMessage(content='El Tesla Cybertruck tiene un chasis de acero inoxidable muy resistente y ha obtenido una calificación de 5 estrellas en las pruebas de choque de la NHTSA. Sin embargo, algunos expertos en seguridad siguen teniendo preocupaciones sobre la seguridad de las funciones de conducción autónoma y detección de peatones de Tesla. Es importante tener en cuenta que la seguridad de un vehículo depende de muchos factores, incluyendo el diseño, la construcción y el mantenimiento del vehículo, así como el comportamiento del conductor.', additional_kwargs={}, response_metadata={'token_usage': {'completion_tokens': 124, 'prompt_tokens': 610, 'total_tokens': 734, 'completion_time': 0.450909091, 'prompt_time': 0.025720745, 'queue_time': 0.263864634, 'total_time': 0.476629836}, 'model_name': 'llama-3.3-70b-versatile', 'system_fingerprint': 'fp_5f849c5a0b', 'finish_reason': 'stop', 'logprobs': None}, id='run-4a7e63fc-e6f0-4293-9487-5c086c9ae8af-0', usage_metadata={'input_tokens': 610, 'output_tokens': 124, 'total_tokens': 734}), HumanMessage(content='Me puedes decir como me llamo?', additional_kwargs={}, response_metadata={}, id='de1a4a9e-c760-43c8-88f1-a24ce2256603')]}\n",
      "================================\u001b[1m Human Message \u001b[0m=================================\n",
      "\n",
      "Me puedes decir como me llamo?\n",
      "----\n",
      "{'messages': [HumanMessage(content='hola. Me llamo Carlos, Me pudieras decir que tan seguro es un tesla cybertruck?', additional_kwargs={}, response_metadata={}, id='b48822e1-9972-4b7e-b901-477161cb1aeb'), AIMessage(content='', additional_kwargs={'tool_calls': [{'id': 'call_en4w', 'function': {'arguments': '{\"query\": \"Tesla Cybertruck safety features\"}', 'name': 'tavily_search_results_json'}, 'type': 'function'}]}, response_metadata={'token_usage': {'completion_tokens': 22, 'prompt_tokens': 301, 'total_tokens': 323, 'completion_time': 0.08, 'prompt_time': 0.013894832, 'queue_time': 0.198525518, 'total_time': 0.093894832}, 'model_name': 'llama-3.3-70b-versatile', 'system_fingerprint': 'fp_2ca0059abb', 'finish_reason': 'tool_calls', 'logprobs': None}, id='run-6c796e92-1499-489b-b1c2-996f5cc5661c-0', tool_calls=[{'name': 'tavily_search_results_json', 'args': {'query': 'Tesla Cybertruck safety features'}, 'id': 'call_en4w', 'type': 'tool_call'}], usage_metadata={'input_tokens': 301, 'output_tokens': 22, 'total_tokens': 323}), ToolMessage(content='[{\"url\": \"https://www.youtube.com/watch?v=GturqvjdFwU\", \"content\": \"cybertruck #safety #features #thatmake #nearly #invincible The Tesla Cybertruck is built with an ultra-hard stainless steel exoskeleton,\"}, {\"url\": \"https://www.repairerdrivennews.com/2023/12/12/safety-professionals-weigh-in-on-teslas-cybertruck/\", \"content\": \"Brooks said he also continues to have “significant concerns” about the safety of Tesla\\'s full self-driving and pedestrian detection features, as\"}]', name='tavily_search_results_json', id='0730efc4-b532-462c-b9c0-d2ed4290f088', tool_call_id='call_en4w', artifact={'query': 'Tesla Cybertruck safety features', 'follow_up_questions': None, 'answer': None, 'images': [], 'results': [{'url': 'https://www.youtube.com/watch?v=GturqvjdFwU', 'title': 'Cybertruck Safety Features That Make It Nearly Invincible! - YouTube', 'content': 'cybertruck #safety #features #thatmake #nearly #invincible The Tesla Cybertruck is built with an ultra-hard stainless steel exoskeleton,', 'score': 0.8820324, 'raw_content': None}, {'url': 'https://www.repairerdrivennews.com/2023/12/12/safety-professionals-weigh-in-on-teslas-cybertruck/', 'title': \"Safety professionals weigh in on Tesla's Cybertruck\", 'content': \"Brooks said he also continues to have “significant concerns” about the safety of Tesla's full self-driving and pedestrian detection features, as\", 'score': 0.8657814, 'raw_content': None}], 'response_time': 1.39}), AIMessage(content='', additional_kwargs={'tool_calls': [{'id': 'call_432y', 'function': {'arguments': '{\"query\": \"Tesla Cybertruck crash test\"}', 'name': 'tavily_search_results_json'}, 'type': 'function'}]}, response_metadata={'token_usage': {'completion_tokens': 22, 'prompt_tokens': 462, 'total_tokens': 484, 'completion_time': 0.08, 'prompt_time': 0.021477636, 'queue_time': 0.31959817999999995, 'total_time': 0.101477636}, 'model_name': 'llama-3.3-70b-versatile', 'system_fingerprint': 'fp_7b42aeb9fa', 'finish_reason': 'tool_calls', 'logprobs': None}, id='run-0903ab81-c5eb-497f-bd5c-23e4aa8ebc31-0', tool_calls=[{'name': 'tavily_search_results_json', 'args': {'query': 'Tesla Cybertruck crash test'}, 'id': 'call_432y', 'type': 'tool_call'}], usage_metadata={'input_tokens': 462, 'output_tokens': 22, 'total_tokens': 484}), ToolMessage(content='[{\"url\": \"https://www.youtube.com/watch?v=vvxcvuYUM20\", \"content\": \"The official crash test results for the Tesla Cybertruck, straight from the NHTSA. This script sticks to the NHTSA\\'s reported results – five\"}, {\"url\": \"https://www.jalopnik.com/1796315/nhtsa-tesla-cybertruck-test-results-pedestrian-safety/\", \"content\": \"The Tesla Cybertruck picked up a five-star rating overall and scored five stars in almost every test.\"}]', name='tavily_search_results_json', id='b0377e37-2113-45fe-9081-ab7f127cdedb', tool_call_id='call_432y', artifact={'query': 'Tesla Cybertruck crash test', 'follow_up_questions': None, 'answer': None, 'images': [], 'results': [{'url': 'https://www.youtube.com/watch?v=vvxcvuYUM20', 'title': 'The official crash test results for the Tesla Cybertruck, straight from ...', 'content': \"The official crash test results for the Tesla Cybertruck, straight from the NHTSA. This script sticks to the NHTSA's reported results – five\", 'score': 0.8091708, 'raw_content': None}, {'url': 'https://www.jalopnik.com/1796315/nhtsa-tesla-cybertruck-test-results-pedestrian-safety/', 'title': \"NHTSA Finally Releases Cybertruck Crash Test, Just Don't Ask ...\", 'content': 'The Tesla Cybertruck picked up a five-star rating overall and scored five stars in almost every test.', 'score': 0.7892503, 'raw_content': None}], 'response_time': 1.29}), AIMessage(content='El Tesla Cybertruck tiene un chasis de acero inoxidable muy resistente y ha obtenido una calificación de 5 estrellas en las pruebas de choque de la NHTSA. Sin embargo, algunos expertos en seguridad siguen teniendo preocupaciones sobre la seguridad de las funciones de conducción autónoma y detección de peatones de Tesla. Es importante tener en cuenta que la seguridad de un vehículo depende de muchos factores, incluyendo el diseño, la construcción y el mantenimiento del vehículo, así como el comportamiento del conductor.', additional_kwargs={}, response_metadata={'token_usage': {'completion_tokens': 124, 'prompt_tokens': 610, 'total_tokens': 734, 'completion_time': 0.450909091, 'prompt_time': 0.025720745, 'queue_time': 0.263864634, 'total_time': 0.476629836}, 'model_name': 'llama-3.3-70b-versatile', 'system_fingerprint': 'fp_5f849c5a0b', 'finish_reason': 'stop', 'logprobs': None}, id='run-4a7e63fc-e6f0-4293-9487-5c086c9ae8af-0', usage_metadata={'input_tokens': 610, 'output_tokens': 124, 'total_tokens': 734}), HumanMessage(content='Me puedes decir como me llamo?', additional_kwargs={}, response_metadata={}, id='de1a4a9e-c760-43c8-88f1-a24ce2256603'), AIMessage(content='Te llamas Carlos. Me lo dijiste al principio de nuestra conversación.', additional_kwargs={}, response_metadata={'token_usage': {'completion_tokens': 17, 'prompt_tokens': 751, 'total_tokens': 768, 'completion_time': 0.061818182, 'prompt_time': 0.029414186, 'queue_time': 0.200034934, 'total_time': 0.091232368}, 'model_name': 'llama-3.3-70b-versatile', 'system_fingerprint': 'fp_5f849c5a0b', 'finish_reason': 'stop', 'logprobs': None}, id='run-83038dc9-2cc2-4641-ad56-844695c4f532-0', usage_metadata={'input_tokens': 751, 'output_tokens': 17, 'total_tokens': 768})]}\n",
      "==================================\u001b[1m Ai Message \u001b[0m==================================\n",
      "\n",
      "Te llamas Carlos. Me lo dijiste al principio de nuestra conversación.\n",
      "----\n"
     ]
    }
   ],
   "source": [
    "for chunk in agent_executor.stream(\n",
    "    {\"messages\": [HumanMessage(content=\"Me puedes decir como me llamo?\")]}, \n",
    "    config,\n",
    "    stream_mode=\"values\",\n",
    "):\n",
    "    print(chunk)\n",
    "    chunk[\"messages\"][-1].pretty_print()\n",
    "    print(\"----\")"
   ]
  },
  {
   "cell_type": "code",
   "execution_count": null,
   "id": "6d745663-def5-4c2f-bbf2-b7614ac2459d",
   "metadata": {},
   "outputs": [],
   "source": []
  }
 ],
 "metadata": {
  "kernelspec": {
   "display_name": "Python 3",
   "language": "python",
   "name": "python3"
  },
  "language_info": {
   "codemirror_mode": {
    "name": "ipython",
    "version": 3
   },
   "file_extension": ".py",
   "mimetype": "text/x-python",
   "name": "python",
   "nbconvert_exporter": "python",
   "pygments_lexer": "ipython3",
   "version": "3.13.2"
  }
 },
 "nbformat": 4,
 "nbformat_minor": 5
}
