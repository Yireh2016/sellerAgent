{
 "cells": [
  {
   "cell_type": "code",
   "execution_count": 38,
   "metadata": {},
   "outputs": [],
   "source": [
    "import os\n",
    "from dotenv import load_dotenv\n",
    "load_dotenv()\n",
    "\n",
    "os.environ['LANGSMITH_TRACING'] = \"true\""
   ]
  },
  {
   "cell_type": "code",
   "execution_count": 39,
   "metadata": {},
   "outputs": [],
   "source": [
    "from langchain.chat_models import init_chat_model\n",
    "from langchain_huggingface import HuggingFaceEmbeddings\n",
    "from langchain_core.vectorstores import InMemoryVectorStore\n",
    "\n",
    "\n",
    "model = init_chat_model(\"llama-3.3-70b-versatile\", model_provider=\"groq\")\n",
    "embeddings = HuggingFaceEmbeddings(model_name=\"sentence-transformers/all-mpnet-base-v2\")\n",
    "vector_store = InMemoryVectorStore(embeddings)"
   ]
  },
  {
   "cell_type": "code",
   "execution_count": 40,
   "metadata": {},
   "outputs": [
    {
     "name": "stdout",
     "output_type": "stream",
     "text": [
      "chunks 6\n"
     ]
    }
   ],
   "source": [
    "from langchain_community.document_loaders import WebBaseLoader\n",
    "from langchain_text_splitters import RecursiveCharacterTextSplitter\n",
    "\n",
    "text_splitter = RecursiveCharacterTextSplitter(\n",
    "    chunk_size=1000,  # chunk size (characters)\n",
    "    chunk_overlap=200,  # chunk overlap (characters)\n",
    "    add_start_index=True,  # track index in original document\n",
    ")\n",
    "\n",
    "loader = WebBaseLoader(\"https://www.bionomina.com/\")\n",
    "docs = loader.load()\n",
    "\n",
    "all_splits = text_splitter.split_documents(docs)\n",
    "\n",
    "print(f\"chunks {len(all_splits)}\")\n",
    "\n",
    "document_ids = vector_store.add_documents(documents=all_splits)\n",
    "\n"
   ]
  },
  {
   "cell_type": "code",
   "execution_count": 41,
   "metadata": {},
   "outputs": [
    {
     "name": "stdout",
     "output_type": "stream",
     "text": [
      "input_variables=['context', 'question'] input_types={} partial_variables={} template='\"You are a highly skilled sales representative specializing in analyzing marketing materials and \\ngenerating persuasive sales pitches.\\n\\n**Task 1: Context Analysis**\\n\\nYou will be provided with a piece of retrieved context. Carefully analyze this context to:\\n\\n* **Identify all products and services mentioned.**\\n* **Determine the primary marketing goals.**\\n* **Pinpoint the intended call to action.**\\n\\n**Task 2: Sales Pitch Generation**\\n\\nWhen prompted to generate a sales pitch, use the information extracted from the context analysis to create an \\nengaging and compelling pitch. This pitch should:\\n\\n* Directly address the identified marketing goals.\\n* Clearly and persuasively guide the potential buyer towards the call to action.\\n* Highlight the benefits of the products or services.\\n\\n**Task 3: Responding to Inquiries**\\n\\n* If asked questions related to the provided context, respond accurately and thoroughly, actively or \\npassively incorporating sales-oriented language to promote the products or services.\\n* If asked questions unrelated to the provided context, politely state, \\n\"I apologize, but I can only assist with inquiries related to our product and services.\"\\n\\n**Instructions:**\\n\\n* Maintain a professional and enthusiastic tone.\\n* Be concise and focused in your responses.\\n* Prioritize driving the user towards the desired call to action.\\n* Clearly seperate the different sections of your analysis if you are asked to show the analysis.\\n* Always answer in the language of the context\\n\\n**Context:**\\n\\n{context}\\n\\n**Example Interaction:**\\n\\n**User:** \"What are the key products and services?\"\\n**LLM:** \"[Analysis of products/services]... These products/services are designed to \\n[mention key benefits and tie it to the marketing goals] and are available if you [mention call to action]\"\\n\\n**User:** \"Generate a sales pitch.\"\\n**LLM:** \"[Generated sales pitch, incorporating marketing goals and call to action]\"\\n\\n**User:** \"What is the weather today?\"\\n**LLM:** \"I apologize, but I can only assist with inquiries related to our product and services.\"\\n\\n\\nQuestion: {question}\\n\\nHelpful Answer:'\n"
     ]
    }
   ],
   "source": [
    "\n",
    "from langchain_core.prompts import PromptTemplate\n",
    "\n",
    "template = \"\"\"\"You are a highly skilled sales representative specializing in analyzing marketing materials and \n",
    "generating persuasive sales pitches.\n",
    "\n",
    "**Task 1: Context Analysis**\n",
    "\n",
    "You will be provided with a piece of retrieved context. Carefully analyze this context to:\n",
    "\n",
    "* **Identify all products and services mentioned.**\n",
    "* **Determine the primary marketing goals.**\n",
    "* **Pinpoint the intended call to action.**\n",
    "\n",
    "**Task 2: Sales Pitch Generation**\n",
    "\n",
    "When prompted to generate a sales pitch, use the information extracted from the context analysis to create an \n",
    "engaging and compelling pitch. This pitch should:\n",
    "\n",
    "* Directly address the identified marketing goals.\n",
    "* Clearly and persuasively guide the potential buyer towards the call to action.\n",
    "* Highlight the benefits of the products or services.\n",
    "\n",
    "**Task 3: Responding to Inquiries**\n",
    "\n",
    "* If asked questions related to the provided context, respond accurately and thoroughly, actively or \n",
    "passively incorporating sales-oriented language to promote the products or services.\n",
    "* If asked questions unrelated to the provided context, politely state, \n",
    "\"I apologize, but I can only assist with inquiries related to our product and services.\"\n",
    "\n",
    "**Instructions:**\n",
    "\n",
    "* Maintain a professional and enthusiastic tone.\n",
    "* Be concise and focused in your responses.\n",
    "* Prioritize driving the user towards the desired call to action.\n",
    "* Clearly seperate the different sections of your analysis if you are asked to show the analysis.\n",
    "* Always answer in the language of the context\n",
    "\n",
    "**Context:**\n",
    "\n",
    "{context}\n",
    "\n",
    "**Example Interaction:**\n",
    "\n",
    "**User:** \"What are the key products and services?\"\n",
    "**LLM:** \"[Analysis of products/services]... These products/services are designed to \n",
    "[mention key benefits and tie it to the marketing goals] and are available if you [mention call to action]\"\n",
    "\n",
    "**User:** \"Generate a sales pitch.\"\n",
    "**LLM:** \"[Generated sales pitch, incorporating marketing goals and call to action]\"\n",
    "\n",
    "**User:** \"What is the weather today?\"\n",
    "**LLM:** \"I apologize, but I can only assist with inquiries related to our product and services.\"\n",
    "\n",
    "\n",
    "Question: {question}\n",
    "\n",
    "Helpful Answer:\"\"\"\n",
    "custom_rag_prompt = PromptTemplate.from_template(template)\n",
    "\n",
    "print(custom_rag_prompt)"
   ]
  },
  {
   "cell_type": "code",
   "execution_count": 42,
   "metadata": {},
   "outputs": [],
   "source": [
    "from langchain_core.documents import Document\n",
    "from typing_extensions import List, TypedDict, Annotated\n",
    "\n",
    "class Search(TypedDict):\n",
    "    \"\"\"Search Query.\"\"\"\n",
    "\n",
    "    query: Annotated[str, ..., \"Search query ro run.\"]\n",
    "\n",
    "class State(TypedDict):\n",
    "    question: str\n",
    "    query: Search\n",
    "    context: List[Document]\n",
    "    answer: str"
   ]
  },
  {
   "cell_type": "code",
   "execution_count": 43,
   "metadata": {},
   "outputs": [],
   "source": [
    "def analyze_query(state:State):\n",
    "    structured_llm = model.with_structured_output(Search)\n",
    "    query = structured_llm.invoke(state[\"question\"])\n",
    "    return {\"query\": query}\n",
    "\n",
    "def retrieve(state=State):\n",
    "    query = state[\"query\"]\n",
    "    retrieved_docs = vector_store.similarity_search(\n",
    "        query[\"query\"],    \n",
    "    )\n",
    "    return { \"context\" : retrieved_docs}\n",
    "\n",
    "def generate(state: State):\n",
    "    docs_content =\"\\n\\n\".join(doc.page_content for doc in state[\"context\"])\n",
    "    messages = custom_rag_prompt.invoke({\"question\": state[\"question\"], \"context\": docs_content})\n",
    "    response = model.invoke(messages)\n",
    "    return {\"answer\": response.content}\n"
   ]
  },
  {
   "cell_type": "code",
   "execution_count": 44,
   "metadata": {},
   "outputs": [
    {
     "data": {
      "image/png": "[encoded data removed]",
      "text/plain": [
       "<IPython.core.display.Image object>"
      ]
     },
     "metadata": {},
     "output_type": "display_data"
    }
   ],
   "source": [
    "from langgraph.graph import START, StateGraph\n",
    "from IPython.display import Image, display\n",
    "\n",
    "graph_builder = StateGraph(State).add_sequence([analyze_query, retrieve,generate])\n",
    "graph_builder.add_edge(START, \"analyze_query\")\n",
    "graph = graph_builder.compile()\n",
    "\n",
    "display(Image(graph.get_graph().draw_mermaid_png()))"
   ]
  },
  {
   "cell_type": "code",
   "execution_count": 45,
   "metadata": {},
   "outputs": [
    {
     "name": "stdout",
     "output_type": "stream",
     "text": [
      "{'analyze_query': {'query': {'query': 'sales pitch examples'}}}\n",
      "\n",
      "----------------\n",
      "\n",
      "{'retrieve': {'context': [Document(id='3e1c3fad-916f-4394-9038-bdd15a44c8e8', metadata={'source': 'https://www.bionomina.com/', 'title': 'Software en la Nube para Control de Asistencia del Personal - Bionómina', 'description': 'Software en la Nube para control de asistencia del personal. Control Biométrico centralizado de Asistencia (Rondas, Horas, Sobretiempos, Permisos).', 'language': 'No language found.', 'start_index': 2950}, page_content='BioNómina en números:\\n\\n\\n+5000\\n\\n\\n\\n\\nTrabajadores supervisados\\n\\n\\n\\n+100\\n\\n\\n\\n\\nSucursales supervisadas\\n\\n\\n\\n100%\\n\\n\\n\\n\\nSatisfacción\\n\\n\\n\\n\\n\\nSolicite una Llamada Telefónica…\\n\\n\\n\\n\\n\\n\\n¿Le gustaría hablar con alguno de nuestros consultores? Sólo complete el formulario de la derecha y lo contacteremos en la mayor brevedad posible.\\nNota: Los datos que suministre por esta vía se mantendrán estrictamente confidenciales de acuerdo a nuestra Política de Privacidad.\\n\\n\\n\\n \\n\\n\\n\\n\\n\\n\\n\\n\\n\\n\\nSu nombre completo:\\n \\nSu Email:\\n\\nPaís:\\nArgentinaBoliviaBrasilChileColombiaCosta RicaEcuadorEl SalvadorEspañaGuatemalaHondurasMéxicoNicaraguaPanamáParaguayPerúRepública DominicanaUruguayVenezuela\\nSu mensaje para nosotros:\\n\\n\\n\\n\\n\\n\\n\\n\\n\\n\\n\\n\\n\\n\\n\\n\\n \\nSomos una empresa que se fundó en el 2013, con el claro objetivo de ayudar a las empresas a controlar la asistencia de su personal de manera segura y confiable.\\nExplorar \\n\\n\\nInicio\\nProyectos\\nNosotros\\nContáctanos\\n\\n\\n\\nCanal de Noticias \\nEmail address: \\n\\n\\n\\n\\n\\n\\nIr al sistema \\xa0 →'), Document(id='351351b4-b9e8-411d-9705-3514b06ef4f6', metadata={'source': 'https://www.bionomina.com/', 'title': 'Software en la Nube para Control de Asistencia del Personal - Bionómina', 'description': 'Software en la Nube para control de asistencia del personal. Control Biométrico centralizado de Asistencia (Rondas, Horas, Sobretiempos, Permisos).', 'language': 'No language found.', 'start_index': 2297}, page_content='BioNómina le permite registrar permisos de ausencia (remunerados y no remunerados) por cualquier motivo, como vacaciones, reposos médicos, permiso de estudios, etc;\\n\\n\\n\\n\\n\\n\\n\\n\\n\\n\\nReportes CSV y Excel\\n\\n\\nGenere reportes de asistencia en formato Excel, TXT o CSV que\\xa0le sirvan para automatizar la carga de incidencias en su sistema de nómina.\\n\\n\\n\\n\\n\\n\\n\\n\\n\\n\\nSistema Amigable\\n\\n\\nBioNómina cuenta con una interfaz de usuario amigable e intuitiva, que le permite a cualquier tipo de usuario usar la totalidad del sistema con pocos minutos de entrenamiento. Compruébelo usted mismo ahora, ingresando a nuestro demo!\\n\\n\\n\\n\\n\\n\\n\\nAlgunos felices usuarios de BioNómina:\\n\\n\\n\\n\\n\\n\\n\\n\\nBioNómina en números:\\n\\n\\n+5000\\n\\n\\n\\n\\nTrabajadores supervisados\\n\\n\\n\\n+100\\n\\n\\n\\n\\nSucursales supervisadas\\n\\n\\n\\n100%\\n\\n\\n\\n\\nSatisfacción\\n\\n\\n\\n\\n\\nSolicite una Llamada Telefónica…'), Document(id='d21bb5c3-da1c-4d5a-a250-ac427f4468f2', metadata={'source': 'https://www.bionomina.com/', 'title': 'Software en la Nube para Control de Asistencia del Personal - Bionómina', 'description': 'Software en la Nube para control de asistencia del personal. Control Biométrico centralizado de Asistencia (Rondas, Horas, Sobretiempos, Permisos).', 'language': 'No language found.', 'start_index': 651}, page_content='Control de Asistencia\\nen la NubeConozca el primer y único sistema en Latinoamérica para llevar eficientemente el control de tiempo y asistencia de sus empleados a través de la Nube...Probar DemoContáctanosReconocimiento FacialBioNómina es compatible con los mejores equipos de reconocimiento facial disponibles en el mercado. Ideales para el control de asistencia en industrias quimicas, manufactureras o donde se dificulte el control por huella.Ver ProyectosControl de Asistencia CentralizadoSupervise desde cualquier lugar, y en tiempo real, la asistencia de TODAS las sucursales de su empresaDemoContáctenosCompatibilidadBioNómina es compatible con los mejores equipos biométricos disponibles en el mercado. Ideales para el control de asistencia tanto en oficina como en fábricas o plantas industriales.Probar DemoContactarConozca BioNómina: Sistema en la Nube para el Control de Asistencia del personal de trabajo, compatible con los mejores equipos biométricos del mercado.'), Document(id='57d81c38-6cb0-4b09-8bc4-56ac46775e49', metadata={'source': 'https://www.bionomina.com/', 'title': 'Software en la Nube para Control de Asistencia del Personal - Bionómina', 'description': 'Software en la Nube para control de asistencia del personal. Control Biométrico centralizado de Asistencia (Rondas, Horas, Sobretiempos, Permisos).', 'language': 'No language found.', 'start_index': 1638}, page_content='Características de BioNómina\\n\\n\\n\\n\\n\\n\\n\\n\\n\\n\\nTecnología Biométrica\\n\\n\\nBioNómina se integra con los mejores equipos biométricos del mercado para control de acceso y control de asistencia (ANVIZ, ZKTeco y Suprema)\\n\\n\\n\\n\\n\\n\\n\\n\\n\\n\\n\\nEn la Nube\\n\\n\\nAcceda a\\xa0BioNómina desde cualquier lugar del mundo! Haga el control de asistencia de su personal desde cualquier lugar. Sólo necesita\\xa0conexión a internet y el explorador web de su preferencia, y olvídese del mantenimineto del sistema.\\n\\n\\n\\n\\n\\n\\n\\n\\n\\n\\n\\nReportes de Asistencia\\n\\n\\nGenere completos y coloridos reportes de asistencia en cuestión de segundos, las veces que quiera y desde donde se encuentre.\\n\\n\\n\\n\\n\\n\\n\\n\\n\\n\\nGestión de Ausencias\\n\\n\\nBioNómina le permite registrar permisos de ausencia (remunerados y no remunerados) por cualquier motivo, como vacaciones, reposos médicos, permiso de estudios, etc;\\n\\n\\n\\n\\n\\n\\n\\n\\n\\n\\nReportes CSV y Excel')]}}\n",
      "\n",
      "----------------\n",
      "\n",
      "{'generate': {'answer': '**Sales Pitch:**\\n\\n¿Está buscando una solución eficiente y confiable para controlar la asistencia de su personal? ¡BioNómina es la respuesta! Nuestro sistema en la nube es el primer y único en Latinoamérica que le permite llevar eficientemente el control de tiempo y asistencia de sus empleados de manera segura y confiable.\\n\\nCon BioNómina, puede registrar permisos de ausencia, generar reportes de asistencia en formato Excel, TXT o CSV, y supervisar la asistencia de todas las sucursales de su empresa en tiempo real. Nuestro sistema es compatible con los mejores equipos biométricos del mercado, lo que garantiza una precisión y seguridad máxima.\\n\\nNuestros clientes han experimentado una satisfacción del 100% con nuestro sistema, y nosotros estamos seguros de que usted también lo hará. ¡No pierda más tiempo y dinero en soluciones ineficientes! ¡Pruebe BioNómina hoy mismo y descubra cómo podemos ayudar a su empresa a ahorrar tiempo y dinero!\\n\\n**Beneficios clave:**\\n\\n* Control de asistencia en la nube\\n* Registro de permisos de ausencia\\n* Reportes de asistencia en formato Excel, TXT o CSV\\n* Supervisión de asistencia en tiempo real\\n* Compatibilidad con los mejores equipos biométricos del mercado\\n\\n**Llamado a la acción:** ¡Solicite una llamada telefónica con uno de nuestros consultores hoy mismo y descubra cómo BioNómina puede ayudar a su empresa a mejorar la eficiencia y la productividad! ¡Complete el formulario de contacto en nuestra página web y nosotros nos pondremos en contacto con usted en la mayor brevedad posible!'}}\n",
      "\n",
      "----------------\n",
      "\n"
     ]
    }
   ],
   "source": [
    "for step in graph.stream(\n",
    "    {\"question\": \"por favor, Genera la sales pitch \"}, stream_mode=\"updates\"\n",
    "):\n",
    "    print(f\"{step}\\n\\n----------------\\n\")"
   ]
  }
 ],
 "metadata": {
  "kernelspec": {
   "display_name": "sellerAgent-pAx5wUas",
   "language": "python",
   "name": "python3"
  },
  "language_info": {
   "codemirror_mode": {
    "name": "ipython",
    "version": 3
   },
   "file_extension": ".py",
   "mimetype": "text/x-python",
   "name": "python",
   "nbconvert_exporter": "python",
   "pygments_lexer": "ipython3",
   "version": "3.13.2"
  }
 },
 "nbformat": 4,
 "nbformat_minor": 2
}
