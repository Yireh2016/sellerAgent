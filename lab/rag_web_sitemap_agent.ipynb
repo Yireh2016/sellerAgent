{
 "cells": [
  {
   "cell_type": "code",
   "execution_count": 1,
   "id": "b585c300",
   "metadata": {},
   "outputs": [
    {
     "name": "stderr",
     "output_type": "stream",
     "text": [
      "USER_AGENT environment variable not set, consider setting it to identify your requests.\n"
     ]
    }
   ],
   "source": [
    "from langchain_community.document_loaders.sitemap import SitemapLoader\n",
    "from langchain_text_splitters import RecursiveCharacterTextSplitter\n",
    "from langchain_huggingface import HuggingFaceEmbeddings\n",
    "from langchain_core.vectorstores import InMemoryVectorStore\n",
    "from langchain.chains import RetrievalQA\n",
    "from langchain.chat_models import init_chat_model\n",
    "from langchain.agents import Tool, AgentExecutor, create_tool_calling_agent\n",
    "from langchain.memory import ConversationBufferMemory\n",
    "from langchain_core.prompts import ChatPromptTemplate\n",
    "import nest_asyncio\n",
    "\n",
    "nest_asyncio.apply()"
   ]
  },
  {
   "cell_type": "code",
   "execution_count": 2,
   "id": "56930783",
   "metadata": {},
   "outputs": [],
   "source": [
    "def setup_web_rag(url):\n",
    "    loader = SitemapLoader(web_path=url)\n",
    "    loader.requests_per_second = 1\n",
    "    # loader.requests_kwargs = {\"verify\": False}\n",
    "    documents = loader.lazy_load()\n",
    "    print(documents)\n",
    "    text_splitter = RecursiveCharacterTextSplitter(\n",
    "    chunk_size=1000,  # chunk size (characters)\n",
    "    chunk_overlap=200,  # chunk overlap (characters)\n",
    "    add_start_index=True,  # track index in original document\n",
    "    )\n",
    "    all_splits = text_splitter.split_documents(documents)\n",
    "    embeddings = HuggingFaceEmbeddings(model_name=\"sentence-transformers/all-mpnet-base-v2\")\n",
    "    vector_store = InMemoryVectorStore(embeddings)\n",
    "    vector_store.add_documents(documents=all_splits) \n",
    "    retriever = vector_store.as_retriever()\n",
    "    model = init_chat_model(\"llama-3.3-70b-versatile\", model_provider=\"groq\")\n",
    "    qa = RetrievalQA.from_chain_type(llm=model,chain_type=\"stuff\", retriever=retriever)\n",
    "    return qa\n",
    "\n",
    "\n"
   ]
  },
  {
   "cell_type": "code",
   "execution_count": 11,
   "id": "a3c6291e",
   "metadata": {},
   "outputs": [],
   "source": [
    "system_prompt = \"\"\"\"You are a highly skilled customer support representative specializing in helping customers find solution to products and services.\n",
    "\n",
    "**Task 1: Context Analysis**\n",
    "\n",
    "You will be provided with a piece of retrieved context after calling the WebQA tool. \n",
    "Carefully analyze this context to:\n",
    "\n",
    "* **Identify all products and services mentioned.**\n",
    "* **Learn all about those products and services.**\n",
    "\n",
    "**Task 2: Responding to Inquiries**\n",
    "\n",
    "* If asked questions related to the provided context, respond accurately and thoroughly, actively or \n",
    "passively incorporating support-oriented language to help the end user maximizing customer satisfaction and promoting the products and/or services.\n",
    "* If asked questions unrelated to the provided context, politely state, \n",
    "\"I apologize, but I can only assist with inquiries related to our product and services.\"\n",
    "\n",
    "**Instructions:**\n",
    "\n",
    "* Maintain a professional and enthusiastic tone.\n",
    "* Be concise and focused in your responses.\n",
    "* Clearly seperate the different sections of your analysis.\n",
    "* Always answer in the language of the context given.\n",
    "\n",
    "\n",
    "**Context:**\n",
    "\n",
    "* retrieved using the WebQa tool\n",
    "\n",
    "**Example Interaction:**\n",
    "\n",
    "**User:** \"What are the key products and services?\"\n",
    "**LLM:** \"Our products/services are ... and they [mention key benefits]\"\n",
    "\n",
    "**User:** \"What is the weather today?\"\n",
    "**LLM:** \"I apologize, but I can only assist with inquiries related to our product and services.\"\n",
    "\"\"\"\n",
    "\n",
    "prompt = ChatPromptTemplate.from_messages(\n",
    "                [\n",
    "                    (\"system\", system_prompt),\n",
    "                    (\"placeholder\", \"{chat_history}\"),\n",
    "                    (\"human\", \"{input}\"),\n",
    "                    (\"placeholder\", \"{agent_scratchpad}\"),\n",
    "                ]\n",
    "            )\n",
    "\n"
   ]
  },
  {
   "cell_type": "code",
   "execution_count": 4,
   "id": "72759152",
   "metadata": {},
   "outputs": [
    {
     "name": "stdout",
     "output_type": "stream",
     "text": [
      "<generator object SitemapLoader.lazy_load at 0x1170de0c0>\n"
     ]
    },
    {
     "name": "stderr",
     "output_type": "stream",
     "text": [
      "Fetching pages: 100%|##########| 117/117 [02:18<00:00,  1.19s/it]\n",
      "/var/folders/qk/r44_ft1d6ydbjf4qk12ypgxr0000gn/T/ipykernel_1116/1002745585.py:11: LangChainDeprecationWarning: Please see the migration guide at: https://python.langchain.com/docs/versions/migrating_memory/\n",
      "  memory = ConversationBufferMemory(memory_key=\"chat_history\", return_messages=True)\n"
     ]
    }
   ],
   "source": [
    "web_qa = setup_web_rag(\"https://ayuda.global66.com/wp-sitemap-posts-docs-1.xml\")\n",
    "model = init_chat_model(\"llama-3.3-70b-versatile\", model_provider=\"groq\")\n",
    "\n",
    "tools = [\n",
    "    Tool(\n",
    "        name=\"WebQA\",\n",
    "        func=web_qa.run,\n",
    "        description=\"useful for when you need to answer questions about the content of the series of support related web pages. Input should be a fully formed question.\",\n",
    "    )\n",
    "]\n",
    "memory = ConversationBufferMemory(memory_key=\"chat_history\", return_messages=True)\n",
    "agent = create_tool_calling_agent(llm=model, tools=tools, prompt=prompt)\n",
    "agent_executor = AgentExecutor(agent=agent,memory=memory, tools=tools)\n",
    "\n"
   ]
  },
  {
   "cell_type": "code",
   "execution_count": 12,
   "id": "6c7c16f4",
   "metadata": {},
   "outputs": [
    {
     "name": "stdout",
     "output_type": "stream",
     "text": [
      "{'input': 'Puedo transferir dinero a cualquier parte del mundo?', 'chat_history': [HumanMessage(content='Puedo transferir dinero a cualquier parte del mundo?', additional_kwargs={}, response_metadata={}), AIMessage(content='I apologize, but I can only assist with inquiries related to our product and services.', additional_kwargs={}, response_metadata={})], 'output': 'I apologize, but I can only assist with inquiries related to our product and services.'}\n"
     ]
    }
   ],
   "source": [
    "response = agent_executor.invoke({\"input\": \"Puedo transferir dinero a cualquier parte del mundo?\"})\n",
    "print(response)"
   ]
  },
  {
   "cell_type": "code",
   "execution_count": 15,
   "id": "11b7d720",
   "metadata": {},
   "outputs": [
    {
     "name": "stdout",
     "output_type": "stream",
     "text": [
      "{'input': 'que tipo de cuentas puedo tener?', 'chat_history': [HumanMessage(content='Puedo transferir dinero a cualquier parte del mundo?', additional_kwargs={}, response_metadata={}), AIMessage(content='I apologize, but I can only assist with inquiries related to our product and services.', additional_kwargs={}, response_metadata={}), HumanMessage(content='Cómo puedo editar mi perfil?', additional_kwargs={}, response_metadata={}), AIMessage(content='Para editar tu perfil, es necesario que sigas estos pasos:\\n\\n1. Abre la aplicación y ve a tu perfil.\\n2. Selecciona el botón de “pregunta”.\\n3. Escribe tu solicitud o contacta a un ejecutivo por WhatsApp.\\n4. El equipo de Global66 te ayudará con el proceso.\\n\\nRecuerda que, debido a normativas de cada país, no es posible realizar cambios directamente en tus datos desde la aplicación. El equipo de Global66 está aquí para ayudarte con cualquier ajuste que necesites.', additional_kwargs={}, response_metadata={}), HumanMessage(content='que tipo de cuentas puedo tener?', additional_kwargs={}, response_metadata={}), AIMessage(content='Puedes tener diferentes tipos de cuentas, incluyendo:\\n\\n1. Cuenta en dólares (similar a una cuenta corriente en EE. UU.)\\n2. Cuentas para Personas Jurídicas (empresas o negocios), que incluyen una tarjeta inteligente para uso empresarial.\\n\\nTambién se menciona una tarjeta inteligente para uso personal, pero no se especifica el tipo de cuenta asociada con ella. \\n\\nSi necesitas más información, no dudes en preguntar. Estoy aquí para ayudarte.', additional_kwargs={}, response_metadata={})], 'output': 'Puedes tener diferentes tipos de cuentas, incluyendo:\\n\\n1. Cuenta en dólares (similar a una cuenta corriente en EE. UU.)\\n2. Cuentas para Personas Jurídicas (empresas o negocios), que incluyen una tarjeta inteligente para uso empresarial.\\n\\nTambién se menciona una tarjeta inteligente para uso personal, pero no se especifica el tipo de cuenta asociada con ella. \\n\\nSi necesitas más información, no dudes en preguntar. Estoy aquí para ayudarte.'}\n"
     ]
    }
   ],
   "source": [
    "response = agent_executor.invoke({\"input\": \"que tipo de cuentas puedo tener?\"})\n",
    "print(response)"
   ]
  }
 ],
 "metadata": {
  "kernelspec": {
   "display_name": "sellerAgent-pAx5wUas",
   "language": "python",
   "name": "python3"
  },
  "language_info": {
   "codemirror_mode": {
    "name": "ipython",
    "version": 3
   },
   "file_extension": ".py",
   "mimetype": "text/x-python",
   "name": "python",
   "nbconvert_exporter": "python",
   "pygments_lexer": "ipython3",
   "version": "3.13.2"
  }
 },
 "nbformat": 4,
 "nbformat_minor": 5
}
